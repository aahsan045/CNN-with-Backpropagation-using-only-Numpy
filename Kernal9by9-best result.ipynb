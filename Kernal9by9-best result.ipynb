{
 "cells": [
  {
   "cell_type": "code",
   "execution_count": 0,
   "metadata": {
    "colab": {},
    "colab_type": "code",
    "id": "lU6RSSE0Ct7t"
   },
   "outputs": [],
   "source": [
    "import numpy as np\n",
    "import glob\n",
    "import matplotlib.pyplot as plt\n",
    "import matplotlib.image as mpimg\n",
    "%matplotlib inline\n",
    "import random\n",
    "import  scipy.io\n",
    "from scipy import signal\n",
    "from scipy import ndimage"
   ]
  },
  {
   "cell_type": "code",
   "execution_count": 2,
   "metadata": {
    "colab": {
     "base_uri": "https://localhost:8080/",
     "height": 34
    },
    "colab_type": "code",
    "id": "jRbYNQSPDdUr",
    "outputId": "2206eccb-4535-4882-fd00-546f449dbedf"
   },
   "outputs": [
    {
     "name": "stdout",
     "output_type": "stream",
     "text": [
      "Drive already mounted at /content/drive; to attempt to forcibly remount, call drive.mount(\"/content/drive\", force_remount=True).\n"
     ]
    }
   ],
   "source": [
    "from google.colab import drive\n",
    "drive.mount('/content/drive')"
   ]
  },
  {
   "cell_type": "code",
   "execution_count": 3,
   "metadata": {
    "colab": {
     "base_uri": "https://localhost:8080/",
     "height": 85
    },
    "colab_type": "code",
    "id": "0Wh9B4QmCt73",
    "outputId": "649cebb4-d815-466e-d2b1-0562189b2d08"
   },
   "outputs": [
    {
     "name": "stdout",
     "output_type": "stream",
     "text": [
      "(60000, 28, 28)\n",
      "(10000, 28, 28)\n",
      "(60000,)\n",
      "(10000,)\n"
     ]
    }
   ],
   "source": [
    "train_x=np.load(\"/content/drive/My Drive/task3_data/train_x.npy\")\n",
    "train_y=np.load(\"/content/drive/My Drive/task3_data/train_y.npy\")\n",
    "test_x=np.load(\"/content/drive/My Drive/task3_data/test_x.npy\")\n",
    "test_y=np.load(\"/content/drive/My Drive/task3_data/test_y.npy\")\n",
    "#train_x=train_x.reshape(train_x.shape[0],train_x.shape[1]*train_x.shape[2])\n",
    "#test_x=test_x.reshape(test_x.shape[0],test_x.shape[1]*test_x.shape[2])\n",
    "print(train_x.shape)\n",
    "print(test_x.shape)\n",
    "print(train_y.shape)\n",
    "print(test_y.shape)"
   ]
  },
  {
   "cell_type": "code",
   "execution_count": 4,
   "metadata": {
    "colab": {
     "base_uri": "https://localhost:8080/",
     "height": 51
    },
    "colab_type": "code",
    "id": "FhBBwgYyCt7_",
    "outputId": "e366f355-6926-4867-e3b3-2922c496dcb0"
   },
   "outputs": [
    {
     "name": "stdout",
     "output_type": "stream",
     "text": [
      "(2000, 28, 28)\n",
      "(2000,)\n"
     ]
    }
   ],
   "source": [
    "indices=[]\n",
    "for i in range(0,len(train_x),6000):\n",
    "    indices.append(random.sample(range(i, i+6000-1),200))\n",
    "a=[]\n",
    "b=[]\n",
    "for index in indices:\n",
    "    a.append(train_x[index])\n",
    "    b.append(train_y[index])\n",
    "X=np.array(a)\n",
    "Y=np.array(b)\n",
    "X=np.concatenate((X[0],X[1],X[2],X[3],X[4],X[5],X[6],X[7],X[8],X[9]),axis=0)\n",
    "Y=np.concatenate((Y[0],Y[1],Y[2],Y[3],Y[4],Y[5],Y[6],Y[7],Y[8],Y[9]),axis=0)\n",
    "print(X.shape)\n",
    "print(Y.shape)"
   ]
  },
  {
   "cell_type": "code",
   "execution_count": 0,
   "metadata": {
    "colab": {},
    "colab_type": "code",
    "id": "DMkmKan9Ct8G"
   },
   "outputs": [],
   "source": [
    "def load_filters(path):\n",
    "    data = scipy.io.loadmat(path+'\\\\filters.mat')\n",
    "    filters = data['filters']\n",
    "    filters = np.array(filters)\n",
    "    return filters\n",
    "def plot_filters(filters):\n",
    "    fig, axes = plt.subplots(6, 6, figsize=(15,5))\n",
    "    itr = 0\n",
    "    for i in range(6):\n",
    "        for j in range(6):\n",
    "            axes[i, j].imshow(filters[:, :,itr])\n",
    "            axes[i, j].set_xticks([])\n",
    "            axes[i, j].set_yticks([])\n",
    "            itr += 1\n",
    "def size_for_convolution(image_dim,kernal_dim,padding,stride):\n",
    "    height = int((image_dim[0]-kernal_dim[0]+2*padding)/stride)+1\n",
    "    width = int((image_dim[1]-kernal_dim[1]+2*padding)/stride)+1\n",
    "    return height,width\n",
    "def conv_single_step(img_patch, filtr):\n",
    "    conv=np.multiply(img_patch,filtr)\n",
    "    return np.sum(conv)"
   ]
  },
  {
   "cell_type": "code",
   "execution_count": 0,
   "metadata": {
    "colab": {},
    "colab_type": "code",
    "id": "hdazo0i3Ct8N"
   },
   "outputs": [],
   "source": [
    "def conv_forward(sample, filters, stride=1, pad=0):\n",
    "    height, width=size_for_convolution(sample.shape,filters.shape,pad,stride)\n",
    "    result=np.zeros((height,width,filters.shape[2]))\n",
    "    for f in range(0,filters.shape[2]):\n",
    "        filtr=filters[:,:,f]\n",
    "        i=j=0\n",
    "        filter_width=filter_height=filters.shape[0]\n",
    "        while i<height:\n",
    "            j=0\n",
    "            while j<width:\n",
    "                patch=sample[i:i+filter_height,j:j+filter_width]\n",
    "                output=conv_single_step(patch,filtr)\n",
    "                result[i,j,f]=output\n",
    "                j=j+stride\n",
    "            i=i+stride\n",
    "            \n",
    "    return result"
   ]
  },
  {
   "cell_type": "code",
   "execution_count": 0,
   "metadata": {
    "colab": {},
    "colab_type": "code",
    "id": "n5gJ8WmkCt8T"
   },
   "outputs": [],
   "source": [
    "def pool_forward(sample,feature_map, mode = \"max\", filter_size=2, stride=2):\n",
    "    indicies=[]\n",
    "    height, width=size_for_convolution(sample.shape,filters.shape,0,stride)  ##call this function to compute the dimensions\n",
    "    result=np.zeros((height,width,filters.shape[2]))                  ## of new image\n",
    "    for f in range(0,feature_map.shape[2]):   ###loop to control convolved image\n",
    "        i=0\n",
    "        a=0\n",
    "        filter_width=filter_height=filter_size   ###initialize width,height, and size\n",
    "        while (i+filter_height)<=feature_map.shape[0]:\n",
    "            j=0\n",
    "            b=0\n",
    "            while (j+filter_width)<=feature_map.shape[1]:\n",
    "                #result[a,b,f]=feature_map[i:i+filter_height,j:j+filter_width,f].max()##Computing the max value\n",
    "                indicies.append(feature_map[i:i+filter_height,j:j+filter_width,f])\n",
    "                j=j+stride\n",
    "                b+=1\n",
    "            i=i+stride\n",
    "            a+=1\n",
    "    return np.array(indicies)"
   ]
  },
  {
   "cell_type": "code",
   "execution_count": 8,
   "metadata": {
    "colab": {
     "base_uri": "https://localhost:8080/",
     "height": 306
    },
    "colab_type": "code",
    "id": "IWnc_IFeCt8a",
    "outputId": "f933fa61-2d60-4b10-b19c-9f19de084b9a"
   },
   "outputs": [
    {
     "data": {
      "image/png": "[encoded data removed]",
      "text/plain": [
       "<Figure size 1080x360 with 36 Axes>"
      ]
     },
     "metadata": {
      "tags": []
     },
     "output_type": "display_data"
    }
   ],
   "source": [
    "#filters= load_filters(\"D:\\\\MS\\\\Spring 2020\\\\Deep Learning\\\\Assignment 03\\\\\")\n",
    "#print(filters.shape)\n",
    "filters=np.random.randn(9,9,36)\n",
    "#print(new_fil.shape)\n",
    "#filters=new_fil\n",
    "plot_filters(filters)"
   ]
  },
  {
   "cell_type": "code",
   "execution_count": 0,
   "metadata": {
    "colab": {},
    "colab_type": "code",
    "id": "ZX2QsOHECt8i"
   },
   "outputs": [],
   "source": [
    "def init_network(no_of_layers, input_dim,neurons_per_layer):\n",
    "    layers_params={}\n",
    "\n",
    "    for i in range(0,len(neurons_per_layer)):\n",
    "        if i==0:\n",
    "            layers_params[\"W1\"]=np.random.randn(input_dim,neurons_per_layer[0]) \n",
    "            print(\"W1 Shape\",layers_params[\"W1\"].shape)\n",
    "            layers_params[\"B1\"]=np.random.randn(neurons_per_layer[0],1)\n",
    "            #layers_params[\"B1\"]=np.expand_dims(layers_params[\"B1\"],axis=-1)\n",
    "            print(\"B1 Shape\",layers_params[\"B1\"].shape)\n",
    "            layers_params[\"Z1\"]=np.zeros((neurons_per_layer[0],1))\n",
    "            #layers_params[\"Z1\"]=np.expand_dims(layers_params[\"Z1\"],axis=-1)\n",
    "            print(\"Z1 Shape\",layers_params[\"Z1\"].shape)\n",
    "            layers_params[\"A1\"]=np.zeros((neurons_per_layer[0],1))\n",
    "            #layers_params[\"A1\"]=np.expand_dims(layers_params[\"A1\"],axis=-1)\n",
    "            print(\"A1 Shape\",layers_params[\"A1\"].shape)\n",
    "        else:\n",
    "            layers_params[f\"W{(i+1)}\"]=np.random.randn(neurons_per_layer[i-1],neurons_per_layer[i])\n",
    "            print(\"W\"+str(i+1)+\" Shape\",layers_params[f\"W{(i+1)}\"].shape)\n",
    "            layers_params[f\"B{(i+1)}\"]=np.random.randn(neurons_per_layer[i],1)\n",
    "            #layers_params[f\"B{(i+1)}\"]=np.expand_dims(layers_params[f\"B{(i+1)}\"],axis=-1)\n",
    "            print(\"B\"+str(i+1)+\" Shape\",layers_params[f\"B{(i+1)}\"].shape)\n",
    "            layers_params[f\"Z{(i+1)}\"]=np.zeros((neurons_per_layer[i],1))\n",
    "            #layers_params[f\"Z{(i+1)}\"]=np.expand_dims(layers_params[f\"Z{(i+1)}\"],axis=-1)\n",
    "            print(\"Z\"+str(i+1)+\" Shape\",layers_params[f\"Z{(i+1)}\"].shape)\n",
    "            layers_params[f\"A{(i+1)}\"]=np.zeros((neurons_per_layer[i],1))\n",
    "            #layers_params[f\"A{(i+1)}\"]=np.expand_dims(layers_params[f\"A{(i+1)}\"],axis=-1)\n",
    "            print(\"A\"+str(i+1)+\" Shape\",layers_params[f\"A{(i+1)}\"].shape)\n",
    "    return layers_params"
   ]
  },
  {
   "cell_type": "code",
   "execution_count": 0,
   "metadata": {
    "colab": {},
    "colab_type": "code",
    "id": "UEceSeLaCt8o"
   },
   "outputs": [],
   "source": [
    "def sigmoid(s):\n",
    "    return 1/(1+np.exp(-s))\n",
    "def sigmoid_derivative(s):\n",
    "    return s*(1-s)\n",
    "def MeanImageSubtraction(all_data):\n",
    "    m_data=np.mean(all_data,axis=0)\n",
    "    m_data=np.expand_dims(m_data,axis=-1)\n",
    "    return m_data\n",
    "def softmax(s):\n",
    "    s=np.exp(s)\n",
    "    sum_s=np.sum(s)\n",
    "    #sum_s=np.expand_dims(sum_s,axis=1)\n",
    "    return s/sum_s \n",
    "def one_hot_encoding(data):\n",
    "    Y=[]\n",
    "    for i in range(0,len(data)):\n",
    "        temp=np.zeros(10,dtype=int)\n",
    "        if data[i]==0:\n",
    "            temp[0]=1\n",
    "            Y.append(temp)\n",
    "        if data[i]==1:\n",
    "            temp[1]=1\n",
    "            Y.append(temp)\n",
    "        if data[i]==2:\n",
    "            temp[2]=1\n",
    "            Y.append(temp)\n",
    "        if data[i]==3:\n",
    "            temp[3]=1\n",
    "            Y.append(temp)\n",
    "        if data[i]==4:\n",
    "            temp[4]=1\n",
    "            Y.append(temp)\n",
    "        if data[i]==5:\n",
    "            temp[5]=1\n",
    "            Y.append(temp)\n",
    "        if data[i]==6:\n",
    "            temp[6]=1\n",
    "            Y.append(temp)\n",
    "        if data[i]==7:\n",
    "            temp[7]=1\n",
    "            Y.append(temp)\n",
    "        if data[i]==8:\n",
    "            temp[8]=1\n",
    "            Y.append(temp)\n",
    "        if data[i]==9:\n",
    "            temp[9]=1\n",
    "            Y.append(temp)\n",
    "        #print(temp)\n",
    "    return np.array(Y)\n",
    "\n",
    "def crossentropyloss(y_pred,Y):\n",
    "    cel=0;\n",
    "    for i in range(0,len(Y)):\n",
    "        cel+= Y[i]*np.log(y_pred[i])\n",
    "    return -cel"
   ]
  },
  {
   "cell_type": "code",
   "execution_count": 0,
   "metadata": {
    "colab": {},
    "colab_type": "code",
    "id": "pwXVL_XHCt8u"
   },
   "outputs": [],
   "source": [
    "def feedforward(net,trainX, no_of_layers):\n",
    "    net[\"Z1\"]=np.dot(net[\"W1\"].T,trainX) + net[\"B1\"]\n",
    "    net[\"A1\"]=sigmoid(net[\"Z1\"])\n",
    "    for i in  range(1,no_of_layers+1):\n",
    "        net[f\"Z{(i+1)}\"]=np.dot(net[f\"W{(i+1)}\"].T,net[f\"A{(i)}\"]) +net[f\"B{(i+1)}\"]\n",
    "        if i<no_of_layers:\n",
    "            net[f\"A{(i+1)}\"]=sigmoid(net[f\"Z{(i+1)}\"])\n",
    "            continue\n",
    "        net[f\"A{(i+1)}\"]=softmax(net[f\"Z{(i+1)}\"])\n",
    "    return net[f\"A{(i+1)}\"]"
   ]
  },
  {
   "cell_type": "code",
   "execution_count": 0,
   "metadata": {
    "colab": {},
    "colab_type": "code",
    "id": "BmhDZVhHCt80"
   },
   "outputs": [],
   "source": [
    "def Backwardpropagate(sample, y_pred,Y,net,lr):\n",
    "    dL_params={}\n",
    "    ###for last layer \n",
    "    Y=np.expand_dims(Y,axis=-1)\n",
    "    error=y_pred-Y ##error\n",
    "    dL_params[f\"dW{(no_of_layers+1)}\"]=np.dot(net[\"A\"+str(no_of_layers)],error.T)\n",
    "    dL_params[f\"dB{(no_of_layers+1)}\"]=np.sum(dL_params[f\"dW{(no_of_layers+1)}\"].T,axis=1,keepdims=True)\n",
    "    ###for intermdeiate layer\n",
    "    dZ = np.multiply(sigmoid_derivative(net[\"A2\"]),np.dot(net[\"W3\"],error))\n",
    "    dL_params[f\"dW{(no_of_layers)}\"]=np.dot(net[\"A1\"],dZ.T)\n",
    "    dL_params[f\"dB{(no_of_layers)}\"]=np.sum(dL_params[f\"dW{(no_of_layers)}\"].T,axis=1,keepdims=True)\n",
    "    ###for first layer\n",
    "    dZ1=np.multiply(sigmoid_derivative(net[\"A1\"]),np.dot(net[\"W2\"],dZ))\n",
    "    delta=np.dot(net[\"W1\"],dZ1)\n",
    "    dL_params[f\"dW{(no_of_layers-1)}\"]=np.dot(sample,dZ1.T)\n",
    "    dL_params[f\"dB{(no_of_layers-1)}\"]=np.sum(dL_params[f\"dW{(no_of_layers-1)}\"].T,axis=1,keepdims=True)\n",
    "    '''\n",
    "    net['W'+str(no_of_layers+1)] -= lr*dL_params[f\"dW{(no_of_layers+1)}\"] ###weights updation\n",
    "    net['B'+str(no_of_layers+1)] -= lr*dL_params[f\"dB{(no_of_layers+1)}\"]###bias updation\n",
    "    net['W'+str(no_of_layers)] -= lr*dL_params[f\"dW{(no_of_layers)}\"] ###weights updation\n",
    "    net['B'+str(no_of_layers)] -= lr*dL_params[f\"dB{(no_of_layers)}\"]###bias updation\n",
    "    net['W'+str(no_of_layers-1)] -= lr*dL_params[f\"dW{(no_of_layers-1)}\"] ###weights updation\n",
    "    net['B'+str(no_of_layers-1)] -= lr*dL_params[f\"dB{(no_of_layers-1)}\"]###bias updation\n",
    "    '''\n",
    "    return dL_params[f\"dW{(no_of_layers+1)}\"],dL_params[f\"dB{(no_of_layers+1)}\"],dL_params[f\"dW{(no_of_layers)}\"],dL_params[f\"dB{(no_of_layers)}\"],dL_params[f\"dW{(no_of_layers-1)}\"],dL_params[f\"dB{(no_of_layers-1)}\"],delta"
   ]
  },
  {
   "cell_type": "code",
   "execution_count": 0,
   "metadata": {
    "colab": {},
    "colab_type": "code",
    "id": "mGA_v8lHCt89"
   },
   "outputs": [],
   "source": [
    "def relu(s):\n",
    "    return np.maximum(s,0);\n",
    "\n",
    "def relu_derivative(s):\n",
    "    s[s<=0] = 0\n",
    "    s[s>0] = 1\n",
    "    return s"
   ]
  },
  {
   "cell_type": "code",
   "execution_count": 0,
   "metadata": {
    "colab": {},
    "colab_type": "code",
    "id": "MoT3hQIFCt9G"
   },
   "outputs": [],
   "source": [
    "def Maxpool(conv_result):\n",
    "    maxID=np.zeros((conv_result.shape[0],conv_result.shape[1],conv_result.shape[2]))\n",
    "    stride = 2\n",
    "    fs = 2\n",
    "    a=conv_result\n",
    "    conv_mats = np.array([ [ [ [np.max(a[j:j+fs,k:k+fs,i]),([j,k]+np.array(np.unravel_index(np.argmax(a[j:j+fs,k:k+fs,i] , axis=None),a[j:j+fs,k:k+fs,i].shape)))] for k in range(0,a.shape[1]-fs+1,stride)] for j in range(0,a.shape[0]-fs+1,stride)] for i in range(0,a.shape[-1])])\n",
    "    #conv_mats=conv_mats.reshape(conv_mats.shape[0]*conv_mats.shape[1]*conv_mats.shape[2],2)\n",
    "    return conv_mats\n",
    "                        "
   ]
  },
  {
   "cell_type": "code",
   "execution_count": 0,
   "metadata": {
    "colab": {},
    "colab_type": "code",
    "id": "E8EhdwVOCt9M"
   },
   "outputs": [],
   "source": [
    "def Update_params(W3,B3,W2,B2,W1,B1):\n",
    "    net['W3'] -= lr*W3 ###weights updation\n",
    "    net['B3'] -= lr*B3###bias updation\n",
    "    net['W2'] -= lr*W2 ###weights updation\n",
    "    net['B2'] -= lr*B2###bias updation\n",
    "    net['W1'] -= lr*W1 ###weights updation\n",
    "    net['B1'] -= lr*B1###bias updation\n",
    "    return"
   ]
  },
  {
   "cell_type": "code",
   "execution_count": 0,
   "metadata": {
    "colab": {},
    "colab_type": "code",
    "id": "OSq9rEZpCt9R"
   },
   "outputs": [],
   "source": [
    "def convolution(a,b):\n",
    "    res=[]\n",
    "    for fill in b:\n",
    "        X=scipy.signal.convolve2d(a,fill[::-1,::-1],mode='valid')[::1,::1]\n",
    "        res.append(X)\n",
    "    res=np.array(res)\n",
    "    res=res.T\n",
    "    return res"
   ]
  },
  {
   "cell_type": "code",
   "execution_count": 0,
   "metadata": {
    "colab": {},
    "colab_type": "code",
    "id": "w2hmGOKDCt9X"
   },
   "outputs": [],
   "source": [
    "def accuracy(X,Y):\n",
    "    count=0;\n",
    "    for i in range(0,len(X)):\n",
    "        conv_res=conv_forward(X[i],filters)\n",
    "        conv_res=relu(conv_res)\n",
    "        pooled_result=Maxpool(conv_res)\n",
    "        size=pooled_result.shape[0]*pooled_result.shape[1]*pooled_result.shape[2]\n",
    "        flatt=pooled_result\n",
    "        flatt=flatt.reshape(size,2)\n",
    "        flatten=[]\n",
    "        for val in flatt:\n",
    "            flatten.append(val[0])\n",
    "        flatten=np.array(flatten)\n",
    "        flatten=np.expand_dims(flatten,axis=-1)\n",
    "        y_pred_tst=feedforward(net,flatten,no_of_layers)\n",
    "        if np.argmax(y_pred_tst)==np.argmax(Y[i]):\n",
    "            count+=1\n",
    "    print(\"Accuracy = \",count/len(Y))\n",
    "    return count/len(Y)\n"
   ]
  },
  {
   "cell_type": "code",
   "execution_count": 0,
   "metadata": {
    "colab": {},
    "colab_type": "code",
    "id": "9i6jo0hVCt9d"
   },
   "outputs": [],
   "source": [
    "accu_vect=[]\n",
    "loss_vect=[]\n",
    "filters1=filters.T\n",
    "lr=0.001\n",
    "epochs=20"
   ]
  },
  {
   "cell_type": "code",
   "execution_count": 19,
   "metadata": {
    "colab": {
     "base_uri": "https://localhost:8080/",
     "height": 221
    },
    "colab_type": "code",
    "id": "gdXhI4Z3Ct9j",
    "outputId": "f69a0560-af2a-4537-b9c2-60bde6bbd663"
   },
   "outputs": [
    {
     "name": "stdout",
     "output_type": "stream",
     "text": [
      "W1 Shape (3600, 128)\n",
      "B1 Shape (128, 1)\n",
      "Z1 Shape (128, 1)\n",
      "A1 Shape (128, 1)\n",
      "W2 Shape (128, 64)\n",
      "B2 Shape (64, 1)\n",
      "Z2 Shape (64, 1)\n",
      "A2 Shape (64, 1)\n",
      "W3 Shape (64, 10)\n",
      "B3 Shape (10, 1)\n",
      "Z3 Shape (10, 1)\n",
      "A3 Shape (10, 1)\n"
     ]
    }
   ],
   "source": [
    "Y=one_hot_encoding(Y)\n",
    "conv_res=convolution(X[0],filters.T)\n",
    "pooled_result=Maxpool(conv_res)\n",
    "bias=np.random.randn(conv_res.shape[0],conv_res.shape[1],conv_res.shape[2])\n",
    "no_of_layers=2;\n",
    "input_dim=pooled_result.shape[0]*pooled_result.shape[1]*pooled_result.shape[2]\n",
    "neurons_per_layer=[128,64,10]\n",
    "net=init_network(no_of_layers,input_dim,neurons_per_layer)"
   ]
  },
  {
   "cell_type": "code",
   "execution_count": 0,
   "metadata": {
    "colab": {},
    "colab_type": "code",
    "id": "9V1lcdk-Ct9s"
   },
   "outputs": [],
   "source": [
    "def MeanImageSubtraction(all_data):\n",
    "    m_data=np.mean(all_data,axis=0)\n",
    "    m_data=np.expand_dims(m_data,axis=-1)\n",
    "    return m_data"
   ]
  },
  {
   "cell_type": "code",
   "execution_count": 0,
   "metadata": {
    "colab": {},
    "colab_type": "code",
    "id": "brSIxtz7Ct9x"
   },
   "outputs": [],
   "source": [
    "def Mask(index,conv_res):\n",
    "    maxID=np.zeros((conv_res.shape[0],conv_res.shape[1],conv_res.shape[2]))\n",
    "    #print(index.shape)\n",
    "    i=j=k=0 \n",
    "    # the range of i must be from 0 to 10.\n",
    "    # the range of j must be from 0 to 10.\n",
    "    # the range of k must be from 0 to 35.\n",
    "    while(k<index.shape[0]):\n",
    "        m=index[k][i][j][1][0]\n",
    "        n=index[k][i][j][1][1]\n",
    "        maxID[m][n][k] = 1\n",
    "        j += 1\n",
    "        if(j%index.shape[1]==0):\n",
    "            j=0\n",
    "            i+= 1\n",
    "            if (i%index.shape[2]==0):\n",
    "                i=0\n",
    "                k+= 1\n",
    "    return maxID"
   ]
  },
  {
   "cell_type": "code",
   "execution_count": 22,
   "metadata": {
    "colab": {
     "base_uri": "https://localhost:8080/",
     "height": 1000
    },
    "colab_type": "code",
    "id": "hXwDN7eXCt92",
    "outputId": "c1fa411b-ca58-4da1-c869-27e0487558c7",
    "scrolled": true
   },
   "outputs": [
    {
     "name": "stdout",
     "output_type": "stream",
     "text": [
      "Epoch # 1\n"
     ]
    },
    {
     "name": "stderr",
     "output_type": "stream",
     "text": [
      "/usr/local/lib/python3.6/dist-packages/ipykernel_launcher.py:2: RuntimeWarning: overflow encountered in exp\n",
      "  \n"
     ]
    },
    {
     "name": "stdout",
     "output_type": "stream",
     "text": [
      "After 1000 Images,Loss and Accuracy\n",
      "Accuracy =  0.11\n",
      "Loss =  [4.94113658]\n",
      "After 2000 Images,Loss and Accuracy\n",
      "Accuracy =  0.15\n",
      "Loss =  [4.10045238]\n",
      "After 3000 Images,Loss and Accuracy\n",
      "Accuracy =  0.15666666666666668\n",
      "Loss =  [3.7152049]\n",
      "After 4000 Images,Loss and Accuracy\n",
      "Accuracy =  0.19666666666666666\n",
      "Loss =  [3.45813793]\n",
      "After 5000 Images,Loss and Accuracy\n",
      "Accuracy =  0.22\n",
      "Loss =  [3.26297627]\n",
      "After 6000 Images,Loss and Accuracy\n",
      "Accuracy =  0.3\n",
      "Loss =  [3.10921823]\n",
      "After 7000 Images,Loss and Accuracy\n",
      "Accuracy =  0.22\n",
      "Loss =  [3.00580737]\n",
      "After 8000 Images,Loss and Accuracy\n",
      "Accuracy =  0.24666666666666667\n",
      "Loss =  [2.89874861]\n",
      "After 9000 Images,Loss and Accuracy\n",
      "Accuracy =  0.29\n",
      "Loss =  [2.81373595]\n",
      "After 10000 Images,Loss and Accuracy\n",
      "Accuracy =  0.2866666666666667\n",
      "Loss =  [2.73448897]\n",
      "After 11000 Images,Loss and Accuracy\n",
      "Accuracy =  0.3433333333333333\n",
      "Loss =  [2.66418257]\n",
      "After 12000 Images,Loss and Accuracy\n",
      "Accuracy =  0.31333333333333335\n",
      "Loss =  [2.60508052]\n",
      "After 13000 Images,Loss and Accuracy\n",
      "Accuracy =  0.36666666666666664\n",
      "Loss =  [2.54988096]\n",
      "After 14000 Images,Loss and Accuracy\n",
      "Accuracy =  0.38\n",
      "Loss =  [2.49588297]\n",
      "After 15000 Images,Loss and Accuracy\n",
      "Accuracy =  0.39666666666666667\n",
      "Loss =  [2.44707494]\n",
      "After 16000 Images,Loss and Accuracy\n",
      "Accuracy =  0.38333333333333336\n",
      "Loss =  [2.40594088]\n",
      "After 17000 Images,Loss and Accuracy\n",
      "Accuracy =  0.42\n",
      "Loss =  [2.36882528]\n",
      "After 18000 Images,Loss and Accuracy\n",
      "Accuracy =  0.39\n",
      "Loss =  [2.3304907]\n",
      "After 19000 Images,Loss and Accuracy\n",
      "Accuracy =  0.37\n",
      "Loss =  [2.29385295]\n",
      "After 20000 Images,Loss and Accuracy\n",
      "Accuracy =  0.46\n",
      "Loss =  [2.26038191]\n",
      "After 21000 Images,Loss and Accuracy\n",
      "Accuracy =  0.4666666666666667\n",
      "Loss =  [2.22806434]\n",
      "After 22000 Images,Loss and Accuracy\n",
      "Accuracy =  0.4766666666666667\n",
      "Loss =  [2.19607668]\n",
      "After 23000 Images,Loss and Accuracy\n",
      "Accuracy =  0.4766666666666667\n",
      "Loss =  [2.1683231]\n",
      "After 24000 Images,Loss and Accuracy\n",
      "Accuracy =  0.5466666666666666\n",
      "Loss =  [2.14124084]\n",
      "After 25000 Images,Loss and Accuracy\n",
      "Accuracy =  0.53\n",
      "Loss =  [2.11320396]\n",
      "After 26000 Images,Loss and Accuracy\n",
      "Accuracy =  0.5233333333333333\n",
      "Loss =  [2.08641481]\n",
      "After 27000 Images,Loss and Accuracy\n",
      "Accuracy =  0.4766666666666667\n",
      "Loss =  [2.06210285]\n",
      "After 28000 Images,Loss and Accuracy\n",
      "Accuracy =  0.53\n",
      "Loss =  [2.03885595]\n",
      "After 29000 Images,Loss and Accuracy\n",
      "Accuracy =  0.57\n",
      "Loss =  [2.01676748]\n",
      "After 30000 Images,Loss and Accuracy\n",
      "Accuracy =  0.5433333333333333\n",
      "Loss =  [1.9970212]\n",
      "After 31000 Images,Loss and Accuracy\n",
      "Accuracy =  0.55\n",
      "Loss =  [1.97756465]\n",
      "After 32000 Images,Loss and Accuracy\n",
      "Accuracy =  0.53\n",
      "Loss =  [1.96161601]\n",
      "After 33000 Images,Loss and Accuracy\n",
      "Accuracy =  0.5266666666666666\n",
      "Loss =  [1.94335853]\n",
      "After 34000 Images,Loss and Accuracy\n",
      "Accuracy =  0.58\n",
      "Loss =  [1.92526836]\n",
      "After 35000 Images,Loss and Accuracy\n",
      "Accuracy =  0.6133333333333333\n",
      "Loss =  [1.90729532]\n",
      "After 36000 Images,Loss and Accuracy\n",
      "Accuracy =  0.5666666666666667\n",
      "Loss =  [1.88987921]\n",
      "After 37000 Images,Loss and Accuracy\n",
      "Accuracy =  0.52\n",
      "Loss =  [1.87264453]\n",
      "After 38000 Images,Loss and Accuracy\n",
      "Accuracy =  0.59\n",
      "Loss =  [1.85955467]\n",
      "After 39000 Images,Loss and Accuracy\n",
      "Accuracy =  0.5766666666666667\n",
      "Loss =  [1.84437167]\n",
      "After 40000 Images,Loss and Accuracy\n",
      "Accuracy =  0.6266666666666667\n",
      "Loss =  [1.82849376]\n",
      "After 41000 Images,Loss and Accuracy\n",
      "Accuracy =  0.6466666666666666\n",
      "Loss =  [1.81494801]\n",
      "After 42000 Images,Loss and Accuracy\n",
      "Accuracy =  0.61\n",
      "Loss =  [1.80140543]\n",
      "After 43000 Images,Loss and Accuracy\n",
      "Accuracy =  0.6333333333333333\n",
      "Loss =  [1.78768564]\n",
      "After 44000 Images,Loss and Accuracy\n",
      "Accuracy =  0.5866666666666667\n",
      "Loss =  [1.77517929]\n",
      "After 45000 Images,Loss and Accuracy\n",
      "Accuracy =  0.6033333333333334\n",
      "Loss =  [1.7621151]\n",
      "After 46000 Images,Loss and Accuracy\n",
      "Accuracy =  0.6033333333333334\n",
      "Loss =  [1.75085729]\n",
      "After 47000 Images,Loss and Accuracy\n",
      "Accuracy =  0.5666666666666667\n",
      "Loss =  [1.73918924]\n",
      "After 48000 Images,Loss and Accuracy\n",
      "Accuracy =  0.6466666666666666\n",
      "Loss =  [1.7271408]\n",
      "After 49000 Images,Loss and Accuracy\n",
      "Accuracy =  0.62\n",
      "Loss =  [1.71586228]\n",
      "After 50000 Images,Loss and Accuracy\n",
      "Accuracy =  0.5866666666666667\n",
      "Loss =  [1.70597501]\n",
      "After 51000 Images,Loss and Accuracy\n",
      "Accuracy =  0.5733333333333334\n",
      "Loss =  [1.69654513]\n",
      "After 52000 Images,Loss and Accuracy\n",
      "Accuracy =  0.5733333333333334\n",
      "Loss =  [1.68731824]\n",
      "After 53000 Images,Loss and Accuracy\n",
      "Accuracy =  0.6033333333333334\n",
      "Loss =  [1.67796139]\n",
      "After 54000 Images,Loss and Accuracy\n",
      "Accuracy =  0.6066666666666667\n",
      "Loss =  [1.66826013]\n",
      "After 55000 Images,Loss and Accuracy\n",
      "Accuracy =  0.6233333333333333\n",
      "Loss =  [1.65904924]\n",
      "After 56000 Images,Loss and Accuracy\n",
      "Accuracy =  0.6633333333333333\n",
      "Loss =  [1.65051814]\n",
      "After 57000 Images,Loss and Accuracy\n",
      "Accuracy =  0.6433333333333333\n",
      "Loss =  [1.6413061]\n",
      "After 58000 Images,Loss and Accuracy\n",
      "Accuracy =  0.64\n",
      "Loss =  [1.63232396]\n",
      "After 59000 Images,Loss and Accuracy\n",
      "Accuracy =  0.61\n",
      "Loss =  [1.6233055]\n",
      "Epoch # 2\n"
     ]
    },
    {
     "ename": "KeyboardInterrupt",
     "evalue": "ignored",
     "output_type": "error",
     "traceback": [
      "\u001b[0;31m---------------------------------------------------------------------------\u001b[0m",
      "\u001b[0;31mKeyboardInterrupt\u001b[0m                         Traceback (most recent call last)",
      "\u001b[0;32m<ipython-input-22-5200bd9443ae>\u001b[0m in \u001b[0;36m<module>\u001b[0;34m()\u001b[0m\n\u001b[1;32m     16\u001b[0m         \u001b[0mconv_res\u001b[0m\u001b[0;34m=\u001b[0m\u001b[0mconv_res\u001b[0m\u001b[0;34m+\u001b[0m\u001b[0mbias\u001b[0m     \u001b[0;31m###Step 2: Add bias\u001b[0m\u001b[0;34m\u001b[0m\u001b[0;34m\u001b[0m\u001b[0m\n\u001b[1;32m     17\u001b[0m         \u001b[0mconv_res\u001b[0m\u001b[0;34m=\u001b[0m\u001b[0mrelu\u001b[0m\u001b[0;34m(\u001b[0m\u001b[0mconv_res\u001b[0m\u001b[0;34m)\u001b[0m\u001b[0;31m###Step 3: Perform Relu activation\u001b[0m\u001b[0;34m\u001b[0m\u001b[0;34m\u001b[0m\u001b[0m\n\u001b[0;32m---> 18\u001b[0;31m         \u001b[0mpooled_result\u001b[0m\u001b[0;34m=\u001b[0m\u001b[0mMaxpool\u001b[0m\u001b[0;34m(\u001b[0m\u001b[0mconv_res\u001b[0m\u001b[0;34m)\u001b[0m \u001b[0;31m### step 4: perform Max pooling\u001b[0m\u001b[0;34m\u001b[0m\u001b[0;34m\u001b[0m\u001b[0m\n\u001b[0m\u001b[1;32m     19\u001b[0m         \u001b[0;31m#print(\"Index shape\",pooled_result.shape)\u001b[0m\u001b[0;34m\u001b[0m\u001b[0;34m\u001b[0m\u001b[0;34m\u001b[0m\u001b[0m\n\u001b[1;32m     20\u001b[0m         \u001b[0mmaxID\u001b[0m\u001b[0;34m=\u001b[0m\u001b[0mMask\u001b[0m\u001b[0;34m(\u001b[0m\u001b[0mpooled_result\u001b[0m\u001b[0;34m,\u001b[0m\u001b[0mconv_res\u001b[0m\u001b[0;34m)\u001b[0m\u001b[0;34m\u001b[0m\u001b[0;34m\u001b[0m\u001b[0m\n",
      "\u001b[0;32m<ipython-input-14-118aa669767c>\u001b[0m in \u001b[0;36mMaxpool\u001b[0;34m(conv_result)\u001b[0m\n\u001b[1;32m      4\u001b[0m     \u001b[0mfs\u001b[0m \u001b[0;34m=\u001b[0m \u001b[0;36m2\u001b[0m\u001b[0;34m\u001b[0m\u001b[0;34m\u001b[0m\u001b[0m\n\u001b[1;32m      5\u001b[0m     \u001b[0ma\u001b[0m\u001b[0;34m=\u001b[0m\u001b[0mconv_result\u001b[0m\u001b[0;34m\u001b[0m\u001b[0;34m\u001b[0m\u001b[0m\n\u001b[0;32m----> 6\u001b[0;31m     \u001b[0mconv_mats\u001b[0m \u001b[0;34m=\u001b[0m \u001b[0mnp\u001b[0m\u001b[0;34m.\u001b[0m\u001b[0marray\u001b[0m\u001b[0;34m(\u001b[0m\u001b[0;34m[\u001b[0m \u001b[0;34m[\u001b[0m \u001b[0;34m[\u001b[0m \u001b[0;34m[\u001b[0m\u001b[0mnp\u001b[0m\u001b[0;34m.\u001b[0m\u001b[0mmax\u001b[0m\u001b[0;34m(\u001b[0m\u001b[0ma\u001b[0m\u001b[0;34m[\u001b[0m\u001b[0mj\u001b[0m\u001b[0;34m:\u001b[0m\u001b[0mj\u001b[0m\u001b[0;34m+\u001b[0m\u001b[0mfs\u001b[0m\u001b[0;34m,\u001b[0m\u001b[0mk\u001b[0m\u001b[0;34m:\u001b[0m\u001b[0mk\u001b[0m\u001b[0;34m+\u001b[0m\u001b[0mfs\u001b[0m\u001b[0;34m,\u001b[0m\u001b[0mi\u001b[0m\u001b[0;34m]\u001b[0m\u001b[0;34m)\u001b[0m\u001b[0;34m,\u001b[0m\u001b[0;34m(\u001b[0m\u001b[0;34m[\u001b[0m\u001b[0mj\u001b[0m\u001b[0;34m,\u001b[0m\u001b[0mk\u001b[0m\u001b[0;34m]\u001b[0m\u001b[0;34m+\u001b[0m\u001b[0mnp\u001b[0m\u001b[0;34m.\u001b[0m\u001b[0marray\u001b[0m\u001b[0;34m(\u001b[0m\u001b[0mnp\u001b[0m\u001b[0;34m.\u001b[0m\u001b[0munravel_index\u001b[0m\u001b[0;34m(\u001b[0m\u001b[0mnp\u001b[0m\u001b[0;34m.\u001b[0m\u001b[0margmax\u001b[0m\u001b[0;34m(\u001b[0m\u001b[0ma\u001b[0m\u001b[0;34m[\u001b[0m\u001b[0mj\u001b[0m\u001b[0;34m:\u001b[0m\u001b[0mj\u001b[0m\u001b[0;34m+\u001b[0m\u001b[0mfs\u001b[0m\u001b[0;34m,\u001b[0m\u001b[0mk\u001b[0m\u001b[0;34m:\u001b[0m\u001b[0mk\u001b[0m\u001b[0;34m+\u001b[0m\u001b[0mfs\u001b[0m\u001b[0;34m,\u001b[0m\u001b[0mi\u001b[0m\u001b[0;34m]\u001b[0m \u001b[0;34m,\u001b[0m \u001b[0maxis\u001b[0m\u001b[0;34m=\u001b[0m\u001b[0;32mNone\u001b[0m\u001b[0;34m)\u001b[0m\u001b[0;34m,\u001b[0m\u001b[0ma\u001b[0m\u001b[0;34m[\u001b[0m\u001b[0mj\u001b[0m\u001b[0;34m:\u001b[0m\u001b[0mj\u001b[0m\u001b[0;34m+\u001b[0m\u001b[0mfs\u001b[0m\u001b[0;34m,\u001b[0m\u001b[0mk\u001b[0m\u001b[0;34m:\u001b[0m\u001b[0mk\u001b[0m\u001b[0;34m+\u001b[0m\u001b[0mfs\u001b[0m\u001b[0;34m,\u001b[0m\u001b[0mi\u001b[0m\u001b[0;34m]\u001b[0m\u001b[0;34m.\u001b[0m\u001b[0mshape\u001b[0m\u001b[0;34m)\u001b[0m\u001b[0;34m)\u001b[0m\u001b[0;34m)\u001b[0m\u001b[0;34m]\u001b[0m \u001b[0;32mfor\u001b[0m \u001b[0mk\u001b[0m \u001b[0;32min\u001b[0m \u001b[0mrange\u001b[0m\u001b[0;34m(\u001b[0m\u001b[0;36m0\u001b[0m\u001b[0;34m,\u001b[0m\u001b[0ma\u001b[0m\u001b[0;34m.\u001b[0m\u001b[0mshape\u001b[0m\u001b[0;34m[\u001b[0m\u001b[0;36m1\u001b[0m\u001b[0;34m]\u001b[0m\u001b[0;34m-\u001b[0m\u001b[0mfs\u001b[0m\u001b[0;34m+\u001b[0m\u001b[0;36m1\u001b[0m\u001b[0;34m,\u001b[0m\u001b[0mstride\u001b[0m\u001b[0;34m)\u001b[0m\u001b[0;34m]\u001b[0m \u001b[0;32mfor\u001b[0m \u001b[0mj\u001b[0m \u001b[0;32min\u001b[0m \u001b[0mrange\u001b[0m\u001b[0;34m(\u001b[0m\u001b[0;36m0\u001b[0m\u001b[0;34m,\u001b[0m\u001b[0ma\u001b[0m\u001b[0;34m.\u001b[0m\u001b[0mshape\u001b[0m\u001b[0;34m...\n\u001b[0m\u001b[1;32m      7\u001b[0m     \u001b[0;31m#conv_mats=conv_mats.reshape(conv_mats.shape[0]*conv_mats.shape[1]*conv_mats.shape[2],2)\u001b[0m\u001b[0;34m\u001b[0m\u001b[0;34m\u001b[0m\u001b[0;34m\u001b[0m\u001b[0m\n\u001b[1;32m      8\u001b[0m     \u001b[0;32mreturn\u001b[0m \u001b[0mconv_mats\u001b[0m\u001b[0;34m\u001b[0m\u001b[0;34m\u001b[0m\u001b[0m\n",
      "\u001b[0;32m<ipython-input-14-118aa669767c>\u001b[0m in \u001b[0;36m<listcomp>\u001b[0;34m(.0)\u001b[0m\n\u001b[1;32m      4\u001b[0m     \u001b[0mfs\u001b[0m \u001b[0;34m=\u001b[0m \u001b[0;36m2\u001b[0m\u001b[0;34m\u001b[0m\u001b[0;34m\u001b[0m\u001b[0m\n\u001b[1;32m      5\u001b[0m     \u001b[0ma\u001b[0m\u001b[0;34m=\u001b[0m\u001b[0mconv_result\u001b[0m\u001b[0;34m\u001b[0m\u001b[0;34m\u001b[0m\u001b[0m\n\u001b[0;32m----> 6\u001b[0;31m     \u001b[0mconv_mats\u001b[0m \u001b[0;34m=\u001b[0m \u001b[0mnp\u001b[0m\u001b[0;34m.\u001b[0m\u001b[0marray\u001b[0m\u001b[0;34m(\u001b[0m\u001b[0;34m[\u001b[0m \u001b[0;34m[\u001b[0m \u001b[0;34m[\u001b[0m \u001b[0;34m[\u001b[0m\u001b[0mnp\u001b[0m\u001b[0;34m.\u001b[0m\u001b[0mmax\u001b[0m\u001b[0;34m(\u001b[0m\u001b[0ma\u001b[0m\u001b[0;34m[\u001b[0m\u001b[0mj\u001b[0m\u001b[0;34m:\u001b[0m\u001b[0mj\u001b[0m\u001b[0;34m+\u001b[0m\u001b[0mfs\u001b[0m\u001b[0;34m,\u001b[0m\u001b[0mk\u001b[0m\u001b[0;34m:\u001b[0m\u001b[0mk\u001b[0m\u001b[0;34m+\u001b[0m\u001b[0mfs\u001b[0m\u001b[0;34m,\u001b[0m\u001b[0mi\u001b[0m\u001b[0;34m]\u001b[0m\u001b[0;34m)\u001b[0m\u001b[0;34m,\u001b[0m\u001b[0;34m(\u001b[0m\u001b[0;34m[\u001b[0m\u001b[0mj\u001b[0m\u001b[0;34m,\u001b[0m\u001b[0mk\u001b[0m\u001b[0;34m]\u001b[0m\u001b[0;34m+\u001b[0m\u001b[0mnp\u001b[0m\u001b[0;34m.\u001b[0m\u001b[0marray\u001b[0m\u001b[0;34m(\u001b[0m\u001b[0mnp\u001b[0m\u001b[0;34m.\u001b[0m\u001b[0munravel_index\u001b[0m\u001b[0;34m(\u001b[0m\u001b[0mnp\u001b[0m\u001b[0;34m.\u001b[0m\u001b[0margmax\u001b[0m\u001b[0;34m(\u001b[0m\u001b[0ma\u001b[0m\u001b[0;34m[\u001b[0m\u001b[0mj\u001b[0m\u001b[0;34m:\u001b[0m\u001b[0mj\u001b[0m\u001b[0;34m+\u001b[0m\u001b[0mfs\u001b[0m\u001b[0;34m,\u001b[0m\u001b[0mk\u001b[0m\u001b[0;34m:\u001b[0m\u001b[0mk\u001b[0m\u001b[0;34m+\u001b[0m\u001b[0mfs\u001b[0m\u001b[0;34m,\u001b[0m\u001b[0mi\u001b[0m\u001b[0;34m]\u001b[0m \u001b[0;34m,\u001b[0m \u001b[0maxis\u001b[0m\u001b[0;34m=\u001b[0m\u001b[0;32mNone\u001b[0m\u001b[0;34m)\u001b[0m\u001b[0;34m,\u001b[0m\u001b[0ma\u001b[0m\u001b[0;34m[\u001b[0m\u001b[0mj\u001b[0m\u001b[0;34m:\u001b[0m\u001b[0mj\u001b[0m\u001b[0;34m+\u001b[0m\u001b[0mfs\u001b[0m\u001b[0;34m,\u001b[0m\u001b[0mk\u001b[0m\u001b[0;34m:\u001b[0m\u001b[0mk\u001b[0m\u001b[0;34m+\u001b[0m\u001b[0mfs\u001b[0m\u001b[0;34m,\u001b[0m\u001b[0mi\u001b[0m\u001b[0;34m]\u001b[0m\u001b[0;34m.\u001b[0m\u001b[0mshape\u001b[0m\u001b[0;34m)\u001b[0m\u001b[0;34m)\u001b[0m\u001b[0;34m)\u001b[0m\u001b[0;34m]\u001b[0m \u001b[0;32mfor\u001b[0m \u001b[0mk\u001b[0m \u001b[0;32min\u001b[0m \u001b[0mrange\u001b[0m\u001b[0;34m(\u001b[0m\u001b[0;36m0\u001b[0m\u001b[0;34m,\u001b[0m\u001b[0ma\u001b[0m\u001b[0;34m.\u001b[0m\u001b[0mshape\u001b[0m\u001b[0;34m[\u001b[0m\u001b[0;36m1\u001b[0m\u001b[0;34m]\u001b[0m\u001b[0;34m-\u001b[0m\u001b[0mfs\u001b[0m\u001b[0;34m+\u001b[0m\u001b[0;36m1\u001b[0m\u001b[0;34m,\u001b[0m\u001b[0mstride\u001b[0m\u001b[0;34m)\u001b[0m\u001b[0;34m]\u001b[0m \u001b[0;32mfor\u001b[0m \u001b[0mj\u001b[0m \u001b[0;32min\u001b[0m \u001b[0mrange\u001b[0m\u001b[0;34m(\u001b[0m\u001b[0;36m0\u001b[0m\u001b[0;34m,\u001b[0m\u001b[0ma\u001b[0m\u001b[0;34m.\u001b[0m\u001b[0mshape\u001b[0m\u001b[0;34m...\n\u001b[0m\u001b[1;32m      7\u001b[0m     \u001b[0;31m#conv_mats=conv_mats.reshape(conv_mats.shape[0]*conv_mats.shape[1]*conv_mats.shape[2],2)\u001b[0m\u001b[0;34m\u001b[0m\u001b[0;34m\u001b[0m\u001b[0;34m\u001b[0m\u001b[0m\n\u001b[1;32m      8\u001b[0m     \u001b[0;32mreturn\u001b[0m \u001b[0mconv_mats\u001b[0m\u001b[0;34m\u001b[0m\u001b[0;34m\u001b[0m\u001b[0m\n",
      "\u001b[0;32m<ipython-input-14-118aa669767c>\u001b[0m in \u001b[0;36m<listcomp>\u001b[0;34m(.0)\u001b[0m\n\u001b[1;32m      4\u001b[0m     \u001b[0mfs\u001b[0m \u001b[0;34m=\u001b[0m \u001b[0;36m2\u001b[0m\u001b[0;34m\u001b[0m\u001b[0;34m\u001b[0m\u001b[0m\n\u001b[1;32m      5\u001b[0m     \u001b[0ma\u001b[0m\u001b[0;34m=\u001b[0m\u001b[0mconv_result\u001b[0m\u001b[0;34m\u001b[0m\u001b[0;34m\u001b[0m\u001b[0m\n\u001b[0;32m----> 6\u001b[0;31m     \u001b[0mconv_mats\u001b[0m \u001b[0;34m=\u001b[0m \u001b[0mnp\u001b[0m\u001b[0;34m.\u001b[0m\u001b[0marray\u001b[0m\u001b[0;34m(\u001b[0m\u001b[0;34m[\u001b[0m \u001b[0;34m[\u001b[0m \u001b[0;34m[\u001b[0m \u001b[0;34m[\u001b[0m\u001b[0mnp\u001b[0m\u001b[0;34m.\u001b[0m\u001b[0mmax\u001b[0m\u001b[0;34m(\u001b[0m\u001b[0ma\u001b[0m\u001b[0;34m[\u001b[0m\u001b[0mj\u001b[0m\u001b[0;34m:\u001b[0m\u001b[0mj\u001b[0m\u001b[0;34m+\u001b[0m\u001b[0mfs\u001b[0m\u001b[0;34m,\u001b[0m\u001b[0mk\u001b[0m\u001b[0;34m:\u001b[0m\u001b[0mk\u001b[0m\u001b[0;34m+\u001b[0m\u001b[0mfs\u001b[0m\u001b[0;34m,\u001b[0m\u001b[0mi\u001b[0m\u001b[0;34m]\u001b[0m\u001b[0;34m)\u001b[0m\u001b[0;34m,\u001b[0m\u001b[0;34m(\u001b[0m\u001b[0;34m[\u001b[0m\u001b[0mj\u001b[0m\u001b[0;34m,\u001b[0m\u001b[0mk\u001b[0m\u001b[0;34m]\u001b[0m\u001b[0;34m+\u001b[0m\u001b[0mnp\u001b[0m\u001b[0;34m.\u001b[0m\u001b[0marray\u001b[0m\u001b[0;34m(\u001b[0m\u001b[0mnp\u001b[0m\u001b[0;34m.\u001b[0m\u001b[0munravel_index\u001b[0m\u001b[0;34m(\u001b[0m\u001b[0mnp\u001b[0m\u001b[0;34m.\u001b[0m\u001b[0margmax\u001b[0m\u001b[0;34m(\u001b[0m\u001b[0ma\u001b[0m\u001b[0;34m[\u001b[0m\u001b[0mj\u001b[0m\u001b[0;34m:\u001b[0m\u001b[0mj\u001b[0m\u001b[0;34m+\u001b[0m\u001b[0mfs\u001b[0m\u001b[0;34m,\u001b[0m\u001b[0mk\u001b[0m\u001b[0;34m:\u001b[0m\u001b[0mk\u001b[0m\u001b[0;34m+\u001b[0m\u001b[0mfs\u001b[0m\u001b[0;34m,\u001b[0m\u001b[0mi\u001b[0m\u001b[0;34m]\u001b[0m \u001b[0;34m,\u001b[0m \u001b[0maxis\u001b[0m\u001b[0;34m=\u001b[0m\u001b[0;32mNone\u001b[0m\u001b[0;34m)\u001b[0m\u001b[0;34m,\u001b[0m\u001b[0ma\u001b[0m\u001b[0;34m[\u001b[0m\u001b[0mj\u001b[0m\u001b[0;34m:\u001b[0m\u001b[0mj\u001b[0m\u001b[0;34m+\u001b[0m\u001b[0mfs\u001b[0m\u001b[0;34m,\u001b[0m\u001b[0mk\u001b[0m\u001b[0;34m:\u001b[0m\u001b[0mk\u001b[0m\u001b[0;34m+\u001b[0m\u001b[0mfs\u001b[0m\u001b[0;34m,\u001b[0m\u001b[0mi\u001b[0m\u001b[0;34m]\u001b[0m\u001b[0;34m.\u001b[0m\u001b[0mshape\u001b[0m\u001b[0;34m)\u001b[0m\u001b[0;34m)\u001b[0m\u001b[0;34m)\u001b[0m\u001b[0;34m]\u001b[0m \u001b[0;32mfor\u001b[0m \u001b[0mk\u001b[0m \u001b[0;32min\u001b[0m \u001b[0mrange\u001b[0m\u001b[0;34m(\u001b[0m\u001b[0;36m0\u001b[0m\u001b[0;34m,\u001b[0m\u001b[0ma\u001b[0m\u001b[0;34m.\u001b[0m\u001b[0mshape\u001b[0m\u001b[0;34m[\u001b[0m\u001b[0;36m1\u001b[0m\u001b[0;34m]\u001b[0m\u001b[0;34m-\u001b[0m\u001b[0mfs\u001b[0m\u001b[0;34m+\u001b[0m\u001b[0;36m1\u001b[0m\u001b[0;34m,\u001b[0m\u001b[0mstride\u001b[0m\u001b[0;34m)\u001b[0m\u001b[0;34m]\u001b[0m \u001b[0;32mfor\u001b[0m \u001b[0mj\u001b[0m \u001b[0;32min\u001b[0m \u001b[0mrange\u001b[0m\u001b[0;34m(\u001b[0m\u001b[0;36m0\u001b[0m\u001b[0;34m,\u001b[0m\u001b[0ma\u001b[0m\u001b[0;34m.\u001b[0m\u001b[0mshape\u001b[0m\u001b[0;34m...\n\u001b[0m\u001b[1;32m      7\u001b[0m     \u001b[0;31m#conv_mats=conv_mats.reshape(conv_mats.shape[0]*conv_mats.shape[1]*conv_mats.shape[2],2)\u001b[0m\u001b[0;34m\u001b[0m\u001b[0;34m\u001b[0m\u001b[0;34m\u001b[0m\u001b[0m\n\u001b[1;32m      8\u001b[0m     \u001b[0;32mreturn\u001b[0m \u001b[0mconv_mats\u001b[0m\u001b[0;34m\u001b[0m\u001b[0;34m\u001b[0m\u001b[0m\n",
      "\u001b[0;32m<ipython-input-14-118aa669767c>\u001b[0m in \u001b[0;36m<listcomp>\u001b[0;34m(.0)\u001b[0m\n\u001b[1;32m      4\u001b[0m     \u001b[0mfs\u001b[0m \u001b[0;34m=\u001b[0m \u001b[0;36m2\u001b[0m\u001b[0;34m\u001b[0m\u001b[0;34m\u001b[0m\u001b[0m\n\u001b[1;32m      5\u001b[0m     \u001b[0ma\u001b[0m\u001b[0;34m=\u001b[0m\u001b[0mconv_result\u001b[0m\u001b[0;34m\u001b[0m\u001b[0;34m\u001b[0m\u001b[0m\n\u001b[0;32m----> 6\u001b[0;31m     \u001b[0mconv_mats\u001b[0m \u001b[0;34m=\u001b[0m \u001b[0mnp\u001b[0m\u001b[0;34m.\u001b[0m\u001b[0marray\u001b[0m\u001b[0;34m(\u001b[0m\u001b[0;34m[\u001b[0m \u001b[0;34m[\u001b[0m \u001b[0;34m[\u001b[0m \u001b[0;34m[\u001b[0m\u001b[0mnp\u001b[0m\u001b[0;34m.\u001b[0m\u001b[0mmax\u001b[0m\u001b[0;34m(\u001b[0m\u001b[0ma\u001b[0m\u001b[0;34m[\u001b[0m\u001b[0mj\u001b[0m\u001b[0;34m:\u001b[0m\u001b[0mj\u001b[0m\u001b[0;34m+\u001b[0m\u001b[0mfs\u001b[0m\u001b[0;34m,\u001b[0m\u001b[0mk\u001b[0m\u001b[0;34m:\u001b[0m\u001b[0mk\u001b[0m\u001b[0;34m+\u001b[0m\u001b[0mfs\u001b[0m\u001b[0;34m,\u001b[0m\u001b[0mi\u001b[0m\u001b[0;34m]\u001b[0m\u001b[0;34m)\u001b[0m\u001b[0;34m,\u001b[0m\u001b[0;34m(\u001b[0m\u001b[0;34m[\u001b[0m\u001b[0mj\u001b[0m\u001b[0;34m,\u001b[0m\u001b[0mk\u001b[0m\u001b[0;34m]\u001b[0m\u001b[0;34m+\u001b[0m\u001b[0mnp\u001b[0m\u001b[0;34m.\u001b[0m\u001b[0marray\u001b[0m\u001b[0;34m(\u001b[0m\u001b[0mnp\u001b[0m\u001b[0;34m.\u001b[0m\u001b[0munravel_index\u001b[0m\u001b[0;34m(\u001b[0m\u001b[0mnp\u001b[0m\u001b[0;34m.\u001b[0m\u001b[0margmax\u001b[0m\u001b[0;34m(\u001b[0m\u001b[0ma\u001b[0m\u001b[0;34m[\u001b[0m\u001b[0mj\u001b[0m\u001b[0;34m:\u001b[0m\u001b[0mj\u001b[0m\u001b[0;34m+\u001b[0m\u001b[0mfs\u001b[0m\u001b[0;34m,\u001b[0m\u001b[0mk\u001b[0m\u001b[0;34m:\u001b[0m\u001b[0mk\u001b[0m\u001b[0;34m+\u001b[0m\u001b[0mfs\u001b[0m\u001b[0;34m,\u001b[0m\u001b[0mi\u001b[0m\u001b[0;34m]\u001b[0m \u001b[0;34m,\u001b[0m \u001b[0maxis\u001b[0m\u001b[0;34m=\u001b[0m\u001b[0;32mNone\u001b[0m\u001b[0;34m)\u001b[0m\u001b[0;34m,\u001b[0m\u001b[0ma\u001b[0m\u001b[0;34m[\u001b[0m\u001b[0mj\u001b[0m\u001b[0;34m:\u001b[0m\u001b[0mj\u001b[0m\u001b[0;34m+\u001b[0m\u001b[0mfs\u001b[0m\u001b[0;34m,\u001b[0m\u001b[0mk\u001b[0m\u001b[0;34m:\u001b[0m\u001b[0mk\u001b[0m\u001b[0;34m+\u001b[0m\u001b[0mfs\u001b[0m\u001b[0;34m,\u001b[0m\u001b[0mi\u001b[0m\u001b[0;34m]\u001b[0m\u001b[0;34m.\u001b[0m\u001b[0mshape\u001b[0m\u001b[0;34m)\u001b[0m\u001b[0;34m)\u001b[0m\u001b[0;34m)\u001b[0m\u001b[0;34m]\u001b[0m \u001b[0;32mfor\u001b[0m \u001b[0mk\u001b[0m \u001b[0;32min\u001b[0m \u001b[0mrange\u001b[0m\u001b[0;34m(\u001b[0m\u001b[0;36m0\u001b[0m\u001b[0;34m,\u001b[0m\u001b[0ma\u001b[0m\u001b[0;34m.\u001b[0m\u001b[0mshape\u001b[0m\u001b[0;34m[\u001b[0m\u001b[0;36m1\u001b[0m\u001b[0;34m]\u001b[0m\u001b[0;34m-\u001b[0m\u001b[0mfs\u001b[0m\u001b[0;34m+\u001b[0m\u001b[0;36m1\u001b[0m\u001b[0;34m,\u001b[0m\u001b[0mstride\u001b[0m\u001b[0;34m)\u001b[0m\u001b[0;34m]\u001b[0m \u001b[0;32mfor\u001b[0m \u001b[0mj\u001b[0m \u001b[0;32min\u001b[0m \u001b[0mrange\u001b[0m\u001b[0;34m(\u001b[0m\u001b[0;36m0\u001b[0m\u001b[0;34m,\u001b[0m\u001b[0ma\u001b[0m\u001b[0;34m.\u001b[0m\u001b[0mshape\u001b[0m\u001b[0;34m...\n\u001b[0m\u001b[1;32m      7\u001b[0m     \u001b[0;31m#conv_mats=conv_mats.reshape(conv_mats.shape[0]*conv_mats.shape[1]*conv_mats.shape[2],2)\u001b[0m\u001b[0;34m\u001b[0m\u001b[0;34m\u001b[0m\u001b[0;34m\u001b[0m\u001b[0m\n\u001b[1;32m      8\u001b[0m     \u001b[0;32mreturn\u001b[0m \u001b[0mconv_mats\u001b[0m\u001b[0;34m\u001b[0m\u001b[0;34m\u001b[0m\u001b[0m\n",
      "\u001b[0;32m<__array_function__ internals>\u001b[0m in \u001b[0;36mamax\u001b[0;34m(*args, **kwargs)\u001b[0m\n",
      "\u001b[0;32m/usr/local/lib/python3.6/dist-packages/numpy/core/fromnumeric.py\u001b[0m in \u001b[0;36mamax\u001b[0;34m(a, axis, out, keepdims, initial, where)\u001b[0m\n\u001b[1;32m   2666\u001b[0m     \"\"\"\n\u001b[1;32m   2667\u001b[0m     return _wrapreduction(a, np.maximum, 'max', axis, None, out,\n\u001b[0;32m-> 2668\u001b[0;31m                           keepdims=keepdims, initial=initial, where=where)\n\u001b[0m\u001b[1;32m   2669\u001b[0m \u001b[0;34m\u001b[0m\u001b[0m\n\u001b[1;32m   2670\u001b[0m \u001b[0;34m\u001b[0m\u001b[0m\n",
      "\u001b[0;32m/usr/local/lib/python3.6/dist-packages/numpy/core/fromnumeric.py\u001b[0m in \u001b[0;36m_wrapreduction\u001b[0;34m(obj, ufunc, method, axis, dtype, out, **kwargs)\u001b[0m\n\u001b[1;32m     88\u001b[0m                 \u001b[0;32mreturn\u001b[0m \u001b[0mreduction\u001b[0m\u001b[0;34m(\u001b[0m\u001b[0maxis\u001b[0m\u001b[0;34m=\u001b[0m\u001b[0maxis\u001b[0m\u001b[0;34m,\u001b[0m \u001b[0mout\u001b[0m\u001b[0;34m=\u001b[0m\u001b[0mout\u001b[0m\u001b[0;34m,\u001b[0m \u001b[0;34m**\u001b[0m\u001b[0mpasskwargs\u001b[0m\u001b[0;34m)\u001b[0m\u001b[0;34m\u001b[0m\u001b[0;34m\u001b[0m\u001b[0m\n\u001b[1;32m     89\u001b[0m \u001b[0;34m\u001b[0m\u001b[0m\n\u001b[0;32m---> 90\u001b[0;31m     \u001b[0;32mreturn\u001b[0m \u001b[0mufunc\u001b[0m\u001b[0;34m.\u001b[0m\u001b[0mreduce\u001b[0m\u001b[0;34m(\u001b[0m\u001b[0mobj\u001b[0m\u001b[0;34m,\u001b[0m \u001b[0maxis\u001b[0m\u001b[0;34m,\u001b[0m \u001b[0mdtype\u001b[0m\u001b[0;34m,\u001b[0m \u001b[0mout\u001b[0m\u001b[0;34m,\u001b[0m \u001b[0;34m**\u001b[0m\u001b[0mpasskwargs\u001b[0m\u001b[0;34m)\u001b[0m\u001b[0;34m\u001b[0m\u001b[0;34m\u001b[0m\u001b[0m\n\u001b[0m\u001b[1;32m     91\u001b[0m \u001b[0;34m\u001b[0m\u001b[0m\n\u001b[1;32m     92\u001b[0m \u001b[0;34m\u001b[0m\u001b[0m\n",
      "\u001b[0;31mKeyboardInterrupt\u001b[0m: "
     ]
    }
   ],
   "source": [
    "X=train_x\n",
    "mIS=MeanImageSubtraction(X)\n",
    "X=np.subtract(X,mIS.T)\n",
    "Y=one_hot_encoding(train_y)\n",
    "epochs=5\n",
    "for j in range(0,epochs):\n",
    "    print(\"Epoch #\",j+1)\n",
    "    loss=0\n",
    "    p=np.random.permutation(len(X))\n",
    "    trX=X[p]\n",
    "    trY=Y[p]\n",
    "    for i in range(0,len(trX)):\n",
    "        q=random.sample(list(p),300)\n",
    "        #print(\"Image #\",i+1)\n",
    "        conv_res=conv_forward(trX[i],filters)    #Step 1: Perform convolution\n",
    "        conv_res=conv_res+bias     ###Step 2: Add bias\n",
    "        conv_res=relu(conv_res)###Step 3: Perform Relu activation\n",
    "        pooled_result=Maxpool(conv_res) ### step 4: perform Max pooling\n",
    "        #print(\"Index shape\",pooled_result.shape)\n",
    "        maxID=Mask(pooled_result,conv_res)\n",
    "        #print(maxID.shape)\n",
    "        size=pooled_result.shape[0]*pooled_result.shape[1]*pooled_result.shape[2]\n",
    "        flatt=pooled_result\n",
    "        flatt=flatt.reshape(size,2)\n",
    "        flatten=[]\n",
    "        for flat in flatt:\n",
    "            flatten.append(flat[0])\n",
    "        flatten=np.expand_dims(np.array(flatten),axis=-1)\n",
    "        y_pred=feedforward(net,flatten,no_of_layers)  ### Step 7: Send to FC layyers\n",
    "        loss+=crossentropyloss(y_pred,trY[i]) #step 8: Compute loss\n",
    "        W3,B3,W2,B2,W1,B1,dL=Backwardpropagate(flatten,y_pred,trY[i],net,lr)#Step 9: Backprop of FC layer(s)\n",
    "        #print(dL.shape)\n",
    "        dL=dL.reshape(pooled_result.shape[1],pooled_result.shape[2],pooled_result.shape[0]) #Step 10: Unflatten the flattend\n",
    "        dL=np.concatenate((dL,dL),axis=1)\n",
    "        dL=np.concatenate((dL,dL),axis=0)\n",
    "        dL_max_pool=np.multiply(dL,maxID)  #Step 12: Backpropagation of Max-pooling layer\n",
    "        #print(dL.shape)\n",
    "        dL=np.multiply(dL,relu_derivative(dL_max_pool)) #Step 13: Apply derivative of Activation function\n",
    "        dL1=np.flipud(dL) #flip vertically\n",
    "        dL1=np.fliplr(dL1) #flip horizontally\n",
    "        filrs=conv_forward(trX[i],dL1) #convolv with input to update filters\n",
    "        Update_params(W3,B3,W2,B2,W1,B1)\n",
    "        filters   -=lr*filrs\n",
    "        bias      -=lr*dL\n",
    "        if(i%1000==0 and i>1):\n",
    "            q=random.sample(range(0,i),300)\n",
    "            valX=trX[q]\n",
    "            valY=trY[q]\n",
    "            print(\"After\",i,\"Images,Loss and Accuracy\")\n",
    "            accu_vect.append(accuracy(valX,valY))\n",
    "            print(\"Loss = \",loss/i)\n",
    "    loss_vect.append(loss)"
   ]
  },
  {
   "cell_type": "code",
   "execution_count": 23,
   "metadata": {
    "colab": {
     "base_uri": "https://localhost:8080/",
     "height": 282
    },
    "colab_type": "code",
    "id": "ZOcDTD4SCt98",
    "outputId": "a6ab89c9-f694-4de8-b245-bca65b750151"
   },
   "outputs": [
    {
     "data": {
      "text/plain": [
       "[<matplotlib.lines.Line2D at 0x7f1db00566a0>]"
      ]
     },
     "execution_count": 23,
     "metadata": {
      "tags": []
     },
     "output_type": "execute_result"
    },
    {
     "data": {
      "image/png": "[encoded data removed]",
      "text/plain": [
       "<Figure size 432x288 with 1 Axes>"
      ]
     },
     "metadata": {
      "tags": []
     },
     "output_type": "display_data"
    }
   ],
   "source": [
    "plt.plot(loss_vect)"
   ]
  },
  {
   "cell_type": "code",
   "execution_count": 24,
   "metadata": {
    "colab": {
     "base_uri": "https://localhost:8080/",
     "height": 282
    },
    "colab_type": "code",
    "id": "sPlOnzb-Ct-B",
    "outputId": "c1578230-938a-4c98-b22f-a4056d0249e2"
   },
   "outputs": [
    {
     "data": {
      "text/plain": [
       "[<matplotlib.lines.Line2D at 0x7f1db00eacc0>]"
      ]
     },
     "execution_count": 24,
     "metadata": {
      "tags": []
     },
     "output_type": "execute_result"
    },
    {
     "data": {
      "image/png": "[encoded data removed]",
      "text/plain": [
       "<Figure size 432x288 with 1 Axes>"
      ]
     },
     "metadata": {
      "tags": []
     },
     "output_type": "display_data"
    }
   ],
   "source": [
    "plt.plot(accu_vect)"
   ]
  },
  {
   "cell_type": "code",
   "execution_count": 25,
   "metadata": {
    "colab": {
     "base_uri": "https://localhost:8080/",
     "height": 306
    },
    "colab_type": "code",
    "id": "S3zjR-FLCt-G",
    "outputId": "f038eb52-a4e3-4621-8fa7-7402146f63bc"
   },
   "outputs": [
    {
     "data": {
      "image/png": "[encoded data removed]",
      "text/plain": [
       "<Figure size 1080x360 with 36 Axes>"
      ]
     },
     "metadata": {
      "tags": []
     },
     "output_type": "display_data"
    }
   ],
   "source": [
    "plot_filters(filters)"
   ]
  },
  {
   "cell_type": "code",
   "execution_count": 0,
   "metadata": {
    "colab": {},
    "colab_type": "code",
    "id": "Z87J-TV1Ct-L"
   },
   "outputs": [],
   "source": [
    "X=test_x\n",
    "mIS=MeanImageSubtraction(X)\n",
    "X=np.subtract(X,mIS.T)\n",
    "Y=one_hot_encoding(test_y)"
   ]
  },
  {
   "cell_type": "code",
   "execution_count": 27,
   "metadata": {
    "colab": {
     "base_uri": "https://localhost:8080/",
     "height": 51
    },
    "colab_type": "code",
    "id": "T-esMbiRvz-S",
    "outputId": "5d784dde-adee-4193-a618-830e210f998f"
   },
   "outputs": [
    {
     "name": "stdout",
     "output_type": "stream",
     "text": [
      "Accuracy =  0.6334\n"
     ]
    },
    {
     "data": {
      "text/plain": [
       "0.6334"
      ]
     },
     "execution_count": 27,
     "metadata": {
      "tags": []
     },
     "output_type": "execute_result"
    }
   ],
   "source": [
    "accuracy(X,Y)"
   ]
  }
 ],
 "metadata": {
  "colab": {
   "collapsed_sections": [],
   "name": "Kernal9by9.ipynb",
   "provenance": []
  },
  "kernelspec": {
   "display_name": "Python 3",
   "language": "python",
   "name": "python3"
  },
  "language_info": {
   "codemirror_mode": {
    "name": "ipython",
    "version": 3
   },
   "file_extension": ".py",
   "mimetype": "text/x-python",
   "name": "python",
   "nbconvert_exporter": "python",
   "pygments_lexer": "ipython3",
   "version": "3.7.0"
  }
 },
 "nbformat": 4,
 "nbformat_minor": 1
}
