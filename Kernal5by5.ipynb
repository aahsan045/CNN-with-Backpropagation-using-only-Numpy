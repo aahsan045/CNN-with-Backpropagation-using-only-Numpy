{
 "cells": [
  {
   "cell_type": "code",
   "execution_count": 1,
   "metadata": {},
   "outputs": [],
   "source": [
    "import numpy as np\n",
    "import glob\n",
    "import matplotlib.pyplot as plt\n",
    "import matplotlib.image as mpimg\n",
    "%matplotlib inline\n",
    "import random\n",
    "import  scipy.io\n",
    "from scipy import signal\n",
    "from scipy import ndimage"
   ]
  },
  {
   "cell_type": "code",
   "execution_count": 2,
   "metadata": {},
   "outputs": [
    {
     "name": "stdout",
     "output_type": "stream",
     "text": [
      "(60000, 28, 28)\n",
      "(10000, 28, 28)\n",
      "(60000,)\n",
      "(10000,)\n"
     ]
    }
   ],
   "source": [
    "train_x=np.load(\"task3_data/train_x.npy\")\n",
    "train_y=np.load(\"task3_data/train_y.npy\")\n",
    "test_x=np.load(\"task3_data/test_x.npy\")\n",
    "test_y=np.load(\"task3_data/test_y.npy\")\n",
    "#train_x=train_x.reshape(train_x.shape[0],train_x.shape[1]*train_x.shape[2])\n",
    "#test_x=test_x.reshape(test_x.shape[0],test_x.shape[1]*test_x.shape[2])\n",
    "print(train_x.shape)\n",
    "print(test_x.shape)\n",
    "print(train_y.shape)\n",
    "print(test_y.shape)"
   ]
  },
  {
   "cell_type": "code",
   "execution_count": 3,
   "metadata": {},
   "outputs": [
    {
     "name": "stdout",
     "output_type": "stream",
     "text": [
      "(1000, 28, 28)\n",
      "(1000,)\n"
     ]
    }
   ],
   "source": [
    "indices=[]\n",
    "for i in range(0,len(train_x),6000):\n",
    "    indices.append(random.sample(range(i, i+6000-1),100))\n",
    "a=[]\n",
    "b=[]\n",
    "for index in indices:\n",
    "    a.append(train_x[index])\n",
    "    b.append(train_y[index])\n",
    "X=np.array(a)\n",
    "Y=np.array(b)\n",
    "X=np.concatenate((X[0],X[1],X[2],X[3],X[4],X[5],X[6],X[7],X[8],X[9]),axis=0)\n",
    "Y=np.concatenate((Y[0],Y[1],Y[2],Y[3],Y[4],Y[5],Y[6],Y[7],Y[8],Y[9]),axis=0)\n",
    "print(X.shape)\n",
    "print(Y.shape)"
   ]
  },
  {
   "cell_type": "code",
   "execution_count": 4,
   "metadata": {},
   "outputs": [],
   "source": [
    "def load_filters(path):\n",
    "    data = scipy.io.loadmat(path+'\\\\filters.mat')\n",
    "    filters = data['filters']\n",
    "    filters = np.array(filters)\n",
    "    return filters\n",
    "def plot_filters(filters):\n",
    "    fig, axes = plt.subplots(6, 6, figsize=(15,5))\n",
    "    itr = 0\n",
    "    for i in range(6):\n",
    "        for j in range(6):\n",
    "            axes[i, j].imshow(filters[:, :,itr])\n",
    "            axes[i, j].set_xticks([])\n",
    "            axes[i, j].set_yticks([])\n",
    "            itr += 1\n",
    "def size_for_convolution(image_dim,kernal_dim,padding,stride):\n",
    "    height = int((image_dim[0]-kernal_dim[0]+2*padding)/stride)+1\n",
    "    width = int((image_dim[1]-kernal_dim[1]+2*padding)/stride)+1\n",
    "    return height,width\n",
    "def conv_single_step(img_patch, filtr):\n",
    "    conv=np.multiply(img_patch,filtr)\n",
    "    return np.sum(conv)"
   ]
  },
  {
   "cell_type": "code",
   "execution_count": 5,
   "metadata": {},
   "outputs": [],
   "source": [
    "def conv_forward(sample, filters, stride=1, pad=0):\n",
    "    height, width=size_for_convolution(sample.shape,filters.shape,pad,stride)\n",
    "    result=np.zeros((height,width,filters.shape[2]))\n",
    "    for f in range(0,filters.shape[2]):\n",
    "        filtr=filters[:,:,f]\n",
    "        i=j=0\n",
    "        filter_width=filter_height=filters.shape[0]\n",
    "        while i<height:\n",
    "            j=0\n",
    "            while j<width:\n",
    "                patch=sample[i:i+filter_height,j:j+filter_width]\n",
    "                output=conv_single_step(patch,filtr)\n",
    "                result[i,j,f]=output\n",
    "                j=j+stride\n",
    "            i=i+stride\n",
    "            \n",
    "    return result"
   ]
  },
  {
   "cell_type": "code",
   "execution_count": 6,
   "metadata": {},
   "outputs": [],
   "source": [
    "def pool_forward(sample,feature_map, mode = \"max\", filter_size=2, stride=2):\n",
    "    indicies=[]\n",
    "    height, width=size_for_convolution(sample.shape,filters.shape,0,stride)  ##call this function to compute the dimensions\n",
    "    result=np.zeros((height,width,filters.shape[2]))                  ## of new image\n",
    "    for f in range(0,feature_map.shape[2]):   ###loop to control convolved image\n",
    "        i=0\n",
    "        a=0\n",
    "        filter_width=filter_height=filter_size   ###initialize width,height, and size\n",
    "        while (i+filter_height)<=feature_map.shape[0]:\n",
    "            j=0\n",
    "            b=0\n",
    "            while (j+filter_width)<=feature_map.shape[1]:\n",
    "                #result[a,b,f]=feature_map[i:i+filter_height,j:j+filter_width,f].max()##Computing the max value\n",
    "                indicies.append(feature_map[i:i+filter_height,j:j+filter_width,f])\n",
    "                j=j+stride\n",
    "                b+=1\n",
    "            i=i+stride\n",
    "            a+=1\n",
    "    return np.array(indicies)"
   ]
  },
  {
   "cell_type": "code",
   "execution_count": 7,
   "metadata": {},
   "outputs": [
    {
     "data": {
      "image/png": "[encoded data removed]",
      "text/plain": [
       "<Figure size 1080x360 with 36 Axes>"
      ]
     },
     "metadata": {},
     "output_type": "display_data"
    }
   ],
   "source": [
    "#filters= load_filters(\"D:\\\\MS\\\\Spring 2020\\\\Deep Learning\\\\Assignment 03\\\\\")\n",
    "#print(filters.shape)\n",
    "filters=np.random.randn(5,5,36)\n",
    "#print(new_fil.shape)\n",
    "#filters=new_fil\n",
    "plot_filters(filters)"
   ]
  },
  {
   "cell_type": "code",
   "execution_count": 8,
   "metadata": {},
   "outputs": [],
   "source": [
    "def init_network(no_of_layers, input_dim,neurons_per_layer):\n",
    "    layers_params={}\n",
    "\n",
    "    for i in range(0,len(neurons_per_layer)):\n",
    "        if i==0:\n",
    "            layers_params[\"W1\"]=np.random.randn(input_dim,neurons_per_layer[0]) \n",
    "            print(\"W1 Shape\",layers_params[\"W1\"].shape)\n",
    "            layers_params[\"B1\"]=np.random.randn(neurons_per_layer[0],1)\n",
    "            #layers_params[\"B1\"]=np.expand_dims(layers_params[\"B1\"],axis=-1)\n",
    "            print(\"B1 Shape\",layers_params[\"B1\"].shape)\n",
    "            layers_params[\"Z1\"]=np.zeros((neurons_per_layer[0],1))\n",
    "            #layers_params[\"Z1\"]=np.expand_dims(layers_params[\"Z1\"],axis=-1)\n",
    "            print(\"Z1 Shape\",layers_params[\"Z1\"].shape)\n",
    "            layers_params[\"A1\"]=np.zeros((neurons_per_layer[0],1))\n",
    "            #layers_params[\"A1\"]=np.expand_dims(layers_params[\"A1\"],axis=-1)\n",
    "            print(\"A1 Shape\",layers_params[\"A1\"].shape)\n",
    "        else:\n",
    "            layers_params[f\"W{(i+1)}\"]=np.random.randn(neurons_per_layer[i-1],neurons_per_layer[i])\n",
    "            print(\"W\"+str(i+1)+\" Shape\",layers_params[f\"W{(i+1)}\"].shape)\n",
    "            layers_params[f\"B{(i+1)}\"]=np.random.randn(neurons_per_layer[i],1)\n",
    "            #layers_params[f\"B{(i+1)}\"]=np.expand_dims(layers_params[f\"B{(i+1)}\"],axis=-1)\n",
    "            print(\"B\"+str(i+1)+\" Shape\",layers_params[f\"B{(i+1)}\"].shape)\n",
    "            layers_params[f\"Z{(i+1)}\"]=np.zeros((neurons_per_layer[i],1))\n",
    "            #layers_params[f\"Z{(i+1)}\"]=np.expand_dims(layers_params[f\"Z{(i+1)}\"],axis=-1)\n",
    "            print(\"Z\"+str(i+1)+\" Shape\",layers_params[f\"Z{(i+1)}\"].shape)\n",
    "            layers_params[f\"A{(i+1)}\"]=np.zeros((neurons_per_layer[i],1))\n",
    "            #layers_params[f\"A{(i+1)}\"]=np.expand_dims(layers_params[f\"A{(i+1)}\"],axis=-1)\n",
    "            print(\"A\"+str(i+1)+\" Shape\",layers_params[f\"A{(i+1)}\"].shape)\n",
    "    return layers_params"
   ]
  },
  {
   "cell_type": "code",
   "execution_count": 9,
   "metadata": {},
   "outputs": [],
   "source": [
    "def sigmoid(s):\n",
    "    return 1/(1+np.exp(-s))\n",
    "def sigmoid_derivative(s):\n",
    "    return s*(1-s)\n",
    "def MeanImageSubtraction(all_data):\n",
    "    m_data=np.mean(all_data,axis=0)\n",
    "    m_data=np.expand_dims(m_data,axis=-1)\n",
    "    return m_data\n",
    "def softmax(s):\n",
    "    s=np.exp(s)\n",
    "    sum_s=np.sum(s)\n",
    "    #sum_s=np.expand_dims(sum_s,axis=1)\n",
    "    return s/sum_s \n",
    "def one_hot_encoding(data):\n",
    "    Y=[]\n",
    "    for i in range(0,len(data)):\n",
    "        temp=np.zeros(10,dtype=int)\n",
    "        if data[i]==0:\n",
    "            temp[0]=1\n",
    "            Y.append(temp)\n",
    "        if data[i]==1:\n",
    "            temp[1]=1\n",
    "            Y.append(temp)\n",
    "        if data[i]==2:\n",
    "            temp[2]=1\n",
    "            Y.append(temp)\n",
    "        if data[i]==3:\n",
    "            temp[3]=1\n",
    "            Y.append(temp)\n",
    "        if data[i]==4:\n",
    "            temp[4]=1\n",
    "            Y.append(temp)\n",
    "        if data[i]==5:\n",
    "            temp[5]=1\n",
    "            Y.append(temp)\n",
    "        if data[i]==6:\n",
    "            temp[6]=1\n",
    "            Y.append(temp)\n",
    "        if data[i]==7:\n",
    "            temp[7]=1\n",
    "            Y.append(temp)\n",
    "        if data[i]==8:\n",
    "            temp[8]=1\n",
    "            Y.append(temp)\n",
    "        if data[i]==9:\n",
    "            temp[9]=1\n",
    "            Y.append(temp)\n",
    "        #print(temp)\n",
    "    return np.array(Y)\n",
    "\n",
    "def crossentropyloss(y_pred,Y):\n",
    "    cel=0;\n",
    "    for i in range(0,len(Y)):\n",
    "        cel+= Y[i]*np.log(y_pred[i])\n",
    "    return -cel"
   ]
  },
  {
   "cell_type": "code",
   "execution_count": 10,
   "metadata": {},
   "outputs": [],
   "source": [
    "def feedforward(net,trainX, no_of_layers):\n",
    "    net[\"Z1\"]=np.dot(net[\"W1\"].T,trainX) + net[\"B1\"]\n",
    "    net[\"A1\"]=sigmoid(net[\"Z1\"])\n",
    "    for i in  range(1,no_of_layers+1):\n",
    "        net[f\"Z{(i+1)}\"]=np.dot(net[f\"W{(i+1)}\"].T,net[f\"A{(i)}\"]) +net[f\"B{(i+1)}\"]\n",
    "        if i<no_of_layers:\n",
    "            net[f\"A{(i+1)}\"]=sigmoid(net[f\"Z{(i+1)}\"])\n",
    "            continue\n",
    "        net[f\"A{(i+1)}\"]=softmax(net[f\"Z{(i+1)}\"])\n",
    "    return net[f\"A{(i+1)}\"]"
   ]
  },
  {
   "cell_type": "code",
   "execution_count": 11,
   "metadata": {},
   "outputs": [],
   "source": [
    "def Backwardpropagate(sample, y_pred,Y,net,lr):\n",
    "    dL_params={}\n",
    "    ###for last layer \n",
    "    Y=np.expand_dims(Y,axis=-1)\n",
    "    error=y_pred-Y ##error\n",
    "    dL_params[f\"dW{(no_of_layers+1)}\"]=np.dot(net[\"A\"+str(no_of_layers)],error.T)\n",
    "    dL_params[f\"dB{(no_of_layers+1)}\"]=np.sum(dL_params[f\"dW{(no_of_layers+1)}\"].T,axis=1,keepdims=True)\n",
    "    ###for intermdeiate layer\n",
    "    dZ = np.multiply(sigmoid_derivative(net[\"A2\"]),np.dot(net[\"W3\"],error))\n",
    "    dL_params[f\"dW{(no_of_layers)}\"]=np.dot(net[\"A1\"],dZ.T)\n",
    "    dL_params[f\"dB{(no_of_layers)}\"]=np.sum(dL_params[f\"dW{(no_of_layers)}\"].T,axis=1,keepdims=True)\n",
    "    ###for first layer\n",
    "    dZ1=np.multiply(sigmoid_derivative(net[\"A1\"]),np.dot(net[\"W2\"],dZ))\n",
    "    delta=np.dot(net[\"W1\"],dZ1)\n",
    "    dL_params[f\"dW{(no_of_layers-1)}\"]=np.dot(sample,dZ1.T)\n",
    "    dL_params[f\"dB{(no_of_layers-1)}\"]=np.sum(dL_params[f\"dW{(no_of_layers-1)}\"].T,axis=1,keepdims=True)\n",
    "    '''\n",
    "    net['W'+str(no_of_layers+1)] -= lr*dL_params[f\"dW{(no_of_layers+1)}\"] ###weights updation\n",
    "    net['B'+str(no_of_layers+1)] -= lr*dL_params[f\"dB{(no_of_layers+1)}\"]###bias updation\n",
    "    net['W'+str(no_of_layers)] -= lr*dL_params[f\"dW{(no_of_layers)}\"] ###weights updation\n",
    "    net['B'+str(no_of_layers)] -= lr*dL_params[f\"dB{(no_of_layers)}\"]###bias updation\n",
    "    net['W'+str(no_of_layers-1)] -= lr*dL_params[f\"dW{(no_of_layers-1)}\"] ###weights updation\n",
    "    net['B'+str(no_of_layers-1)] -= lr*dL_params[f\"dB{(no_of_layers-1)}\"]###bias updation\n",
    "    '''\n",
    "    return dL_params[f\"dW{(no_of_layers+1)}\"],dL_params[f\"dB{(no_of_layers+1)}\"],dL_params[f\"dW{(no_of_layers)}\"],dL_params[f\"dB{(no_of_layers)}\"],dL_params[f\"dW{(no_of_layers-1)}\"],dL_params[f\"dB{(no_of_layers-1)}\"],delta"
   ]
  },
  {
   "cell_type": "code",
   "execution_count": 12,
   "metadata": {},
   "outputs": [],
   "source": [
    "def relu(s):\n",
    "    return np.maximum(s,0);\n",
    "\n",
    "def relu_derivative(s):\n",
    "    s[s<=0] = 0\n",
    "    s[s>0] = 1\n",
    "    return s"
   ]
  },
  {
   "cell_type": "code",
   "execution_count": 13,
   "metadata": {},
   "outputs": [],
   "source": [
    "def Maxpool(conv_result):\n",
    "    maxID=np.zeros((conv_result.shape[0],conv_result.shape[1],conv_result.shape[2]))\n",
    "    stride = 2\n",
    "    fs = 2\n",
    "    a=conv_result\n",
    "    conv_mats = np.array([ [ [ [np.max(a[j:j+fs,k:k+fs,i]),([j,k]+np.array(np.unravel_index(np.argmax(a[j:j+fs,k:k+fs,i] , axis=None),a[j:j+fs,k:k+fs,i].shape)))] for k in range(0,a.shape[1]-fs+1,stride)] for j in range(0,a.shape[0]-fs+1,stride)] for i in range(0,a.shape[-1])])\n",
    "    #conv_mats=conv_mats.reshape(conv_mats.shape[0]*conv_mats.shape[1]*conv_mats.shape[2],2)\n",
    "    return conv_mats\n",
    "                        "
   ]
  },
  {
   "cell_type": "code",
   "execution_count": 14,
   "metadata": {},
   "outputs": [],
   "source": [
    "def Update_params(W3,B3,W2,B2,W1,B1):\n",
    "    net['W3'] -= lr*W3 ###weights updation\n",
    "    net['B3'] -= lr*B3###bias updation\n",
    "    net['W2'] -= lr*W2 ###weights updation\n",
    "    net['B2'] -= lr*B2###bias updation\n",
    "    net['W1'] -= lr*W1 ###weights updation\n",
    "    net['B1'] -= lr*B1###bias updation\n",
    "    return"
   ]
  },
  {
   "cell_type": "code",
   "execution_count": 15,
   "metadata": {},
   "outputs": [],
   "source": [
    "def convolution(a,b):\n",
    "    res=[]\n",
    "    for fill in b:\n",
    "        X=scipy.signal.convolve2d(a,fill[::-1,::-1],mode='valid')[::1,::1]\n",
    "        res.append(X)\n",
    "    res=np.array(res)\n",
    "    res=res.T\n",
    "    return res"
   ]
  },
  {
   "cell_type": "code",
   "execution_count": 16,
   "metadata": {},
   "outputs": [],
   "source": [
    "def accuracy(X,Y):\n",
    "    count=0;\n",
    "    for i in range(0,len(X)):\n",
    "        conv_res=conv_forward(X[i],filters)\n",
    "        conv_res=relu(conv_res)\n",
    "        pooled_result=Maxpool(conv_res)\n",
    "        size=pooled_result.shape[0]*pooled_result.shape[1]*pooled_result.shape[2]\n",
    "        flatt=pooled_result\n",
    "        flatt=flatt.reshape(size,2)\n",
    "        flatten=[]\n",
    "        for val in flatt:\n",
    "            flatten.append(val[0])\n",
    "        flatten=np.array(flatten)\n",
    "        flatten=np.expand_dims(flatten,axis=-1)\n",
    "        y_pred_tst=feedforward(net,flatten,no_of_layers)\n",
    "        if np.argmax(y_pred_tst)==np.argmax(Y[i]):\n",
    "            count+=1\n",
    "    print(\"Accuracy = \",count/len(Y))\n",
    "    return count/len(Y)\n"
   ]
  },
  {
   "cell_type": "code",
   "execution_count": 17,
   "metadata": {},
   "outputs": [],
   "source": [
    "accu_vect=[]\n",
    "loss_vect=[]\n",
    "filters1=filters.T\n",
    "lr=0.001\n",
    "epochs=20"
   ]
  },
  {
   "cell_type": "code",
   "execution_count": 18,
   "metadata": {},
   "outputs": [
    {
     "name": "stdout",
     "output_type": "stream",
     "text": [
      "W1 Shape (5184, 128)\n",
      "B1 Shape (128, 1)\n",
      "Z1 Shape (128, 1)\n",
      "A1 Shape (128, 1)\n",
      "W2 Shape (128, 64)\n",
      "B2 Shape (64, 1)\n",
      "Z2 Shape (64, 1)\n",
      "A2 Shape (64, 1)\n",
      "W3 Shape (64, 10)\n",
      "B3 Shape (10, 1)\n",
      "Z3 Shape (10, 1)\n",
      "A3 Shape (10, 1)\n"
     ]
    }
   ],
   "source": [
    "Y=one_hot_encoding(Y)\n",
    "conv_res=conv_forward(X[0],filters)\n",
    "pooled_result=Maxpool(conv_res)\n",
    "bias=np.random.randn(conv_res.shape[0],conv_res.shape[1],conv_res.shape[2])\n",
    "no_of_layers=2;\n",
    "input_dim=pooled_result.shape[0]*pooled_result.shape[1]*pooled_result.shape[2]\n",
    "neurons_per_layer=[128,64,10]\n",
    "net=init_network(no_of_layers,input_dim,neurons_per_layer)"
   ]
  },
  {
   "cell_type": "code",
   "execution_count": 19,
   "metadata": {},
   "outputs": [],
   "source": [
    "def MeanImageSubtraction(all_data):\n",
    "    m_data=np.mean(all_data,axis=0)\n",
    "    m_data=np.expand_dims(m_data,axis=-1)\n",
    "    return m_data\n",
    "mIS=MeanImageSubtraction(X)\n",
    "X=np.subtract(X,mIS.T)"
   ]
  },
  {
   "cell_type": "code",
   "execution_count": 20,
   "metadata": {},
   "outputs": [],
   "source": [
    "def Mask(index,conv_res):\n",
    "    maxID=np.zeros((conv_res.shape[0],conv_res.shape[1],conv_res.shape[2]))\n",
    "    #print(index.shape)\n",
    "    i=j=k=0 \n",
    "    # the range of i must be from 0 to 10.\n",
    "    # the range of j must be from 0 to 10.\n",
    "    # the range of k must be from 0 to 35.\n",
    "    while(k<index.shape[0]):\n",
    "        m=index[k][i][j][1][0]\n",
    "        n=index[k][i][j][1][1]\n",
    "        maxID[m][n][k] = 1\n",
    "        j += 1\n",
    "        if(j%index.shape[1]==0):\n",
    "            j=0\n",
    "            i+= 1\n",
    "            if (i%index.shape[2]==0):\n",
    "                i=0\n",
    "                k+= 1\n",
    "    return maxID"
   ]
  },
  {
   "cell_type": "code",
   "execution_count": 21,
   "metadata": {
    "scrolled": true
   },
   "outputs": [
    {
     "name": "stdout",
     "output_type": "stream",
     "text": [
      "Epoch # 1\n",
      "Image # 1\n",
      "Image # 2\n",
      "Image # 3\n",
      "Image # 4\n",
      "Image # 5\n",
      "Image # 6\n",
      "Image # 7\n",
      "Image # 8\n",
      "Image # 9\n",
      "Image # 10\n",
      "Image # 11\n",
      "Image # 12\n",
      "Image # 13\n",
      "Image # 14\n",
      "Image # 15\n",
      "Image # 16\n",
      "Image # 17\n",
      "Image # 18\n",
      "Image # 19\n",
      "Image # 20\n",
      "Image # 21\n",
      "Image # 22\n",
      "Image # 23\n",
      "Image # 24\n",
      "Image # 25\n",
      "Image # 26\n",
      "Image # 27\n",
      "Image # 28\n",
      "Image # 29\n",
      "Image # 30\n",
      "Image # 31\n",
      "Image # 32\n",
      "Image # 33\n",
      "Image # 34\n",
      "Image # 35\n",
      "Image # 36\n",
      "Image # 37\n",
      "Image # 38\n",
      "Image # 39\n",
      "Image # 40\n",
      "Image # 41\n",
      "Image # 42\n",
      "Image # 43\n",
      "Image # 44\n",
      "Image # 45\n",
      "Image # 46\n",
      "Image # 47\n",
      "Image # 48\n",
      "Image # 49\n",
      "Image # 50\n"
     ]
    },
    {
     "ename": "KeyboardInterrupt",
     "evalue": "",
     "output_type": "error",
     "traceback": [
      "\u001b[1;31m---------------------------------------------------------------------------\u001b[0m",
      "\u001b[1;31mKeyboardInterrupt\u001b[0m                         Traceback (most recent call last)",
      "\u001b[1;32m<ipython-input-21-c8405b77dd14>\u001b[0m in \u001b[0;36m<module>\u001b[1;34m\u001b[0m\n\u001b[0;32m     11\u001b[0m     \u001b[1;32mfor\u001b[0m \u001b[0mi\u001b[0m \u001b[1;32min\u001b[0m \u001b[0mrange\u001b[0m\u001b[1;33m(\u001b[0m\u001b[1;36m0\u001b[0m\u001b[1;33m,\u001b[0m\u001b[0mlen\u001b[0m\u001b[1;33m(\u001b[0m\u001b[0mtrX\u001b[0m\u001b[1;33m)\u001b[0m\u001b[1;33m)\u001b[0m\u001b[1;33m:\u001b[0m\u001b[1;33m\u001b[0m\u001b[0m\n\u001b[0;32m     12\u001b[0m         \u001b[0mprint\u001b[0m\u001b[1;33m(\u001b[0m\u001b[1;34m\"Image #\"\u001b[0m\u001b[1;33m,\u001b[0m\u001b[0mi\u001b[0m\u001b[1;33m+\u001b[0m\u001b[1;36m1\u001b[0m\u001b[1;33m)\u001b[0m\u001b[1;33m\u001b[0m\u001b[0m\n\u001b[1;32m---> 13\u001b[1;33m         \u001b[0mconv_res\u001b[0m\u001b[1;33m=\u001b[0m\u001b[0mconv_forward\u001b[0m\u001b[1;33m(\u001b[0m\u001b[0mtrX\u001b[0m\u001b[1;33m[\u001b[0m\u001b[0mi\u001b[0m\u001b[1;33m]\u001b[0m\u001b[1;33m,\u001b[0m\u001b[0mfilters\u001b[0m\u001b[1;33m)\u001b[0m    \u001b[1;31m#Step 1: Perform convolution\u001b[0m\u001b[1;33m\u001b[0m\u001b[0m\n\u001b[0m\u001b[0;32m     14\u001b[0m         \u001b[0mconv_res\u001b[0m\u001b[1;33m=\u001b[0m\u001b[0mconv_res\u001b[0m\u001b[1;33m+\u001b[0m\u001b[0mbias\u001b[0m     \u001b[1;31m###Step 2: Add bias\u001b[0m\u001b[1;33m\u001b[0m\u001b[0m\n\u001b[0;32m     15\u001b[0m         \u001b[0mconv_res\u001b[0m\u001b[1;33m=\u001b[0m\u001b[0mrelu\u001b[0m\u001b[1;33m(\u001b[0m\u001b[0mconv_res\u001b[0m\u001b[1;33m)\u001b[0m\u001b[1;31m###Step 3: Perform Relu activation\u001b[0m\u001b[1;33m\u001b[0m\u001b[0m\n",
      "\u001b[1;32m<ipython-input-5-8993d871894c>\u001b[0m in \u001b[0;36mconv_forward\u001b[1;34m(sample, filters, stride, pad)\u001b[0m\n\u001b[0;32m     10\u001b[0m             \u001b[1;32mwhile\u001b[0m \u001b[0mj\u001b[0m\u001b[1;33m<\u001b[0m\u001b[0mwidth\u001b[0m\u001b[1;33m:\u001b[0m\u001b[1;33m\u001b[0m\u001b[0m\n\u001b[0;32m     11\u001b[0m                 \u001b[0mpatch\u001b[0m\u001b[1;33m=\u001b[0m\u001b[0msample\u001b[0m\u001b[1;33m[\u001b[0m\u001b[0mi\u001b[0m\u001b[1;33m:\u001b[0m\u001b[0mi\u001b[0m\u001b[1;33m+\u001b[0m\u001b[0mfilter_height\u001b[0m\u001b[1;33m,\u001b[0m\u001b[0mj\u001b[0m\u001b[1;33m:\u001b[0m\u001b[0mj\u001b[0m\u001b[1;33m+\u001b[0m\u001b[0mfilter_width\u001b[0m\u001b[1;33m]\u001b[0m\u001b[1;33m\u001b[0m\u001b[0m\n\u001b[1;32m---> 12\u001b[1;33m                 \u001b[0moutput\u001b[0m\u001b[1;33m=\u001b[0m\u001b[0mconv_single_step\u001b[0m\u001b[1;33m(\u001b[0m\u001b[0mpatch\u001b[0m\u001b[1;33m,\u001b[0m\u001b[0mfiltr\u001b[0m\u001b[1;33m)\u001b[0m\u001b[1;33m\u001b[0m\u001b[0m\n\u001b[0m\u001b[0;32m     13\u001b[0m                 \u001b[0mresult\u001b[0m\u001b[1;33m[\u001b[0m\u001b[0mi\u001b[0m\u001b[1;33m,\u001b[0m\u001b[0mj\u001b[0m\u001b[1;33m,\u001b[0m\u001b[0mf\u001b[0m\u001b[1;33m]\u001b[0m\u001b[1;33m=\u001b[0m\u001b[0moutput\u001b[0m\u001b[1;33m\u001b[0m\u001b[0m\n\u001b[0;32m     14\u001b[0m                 \u001b[0mj\u001b[0m\u001b[1;33m=\u001b[0m\u001b[0mj\u001b[0m\u001b[1;33m+\u001b[0m\u001b[0mstride\u001b[0m\u001b[1;33m\u001b[0m\u001b[0m\n",
      "\u001b[1;32m<ipython-input-4-8952030bd678>\u001b[0m in \u001b[0;36mconv_single_step\u001b[1;34m(img_patch, filtr)\u001b[0m\n\u001b[0;32m     19\u001b[0m \u001b[1;32mdef\u001b[0m \u001b[0mconv_single_step\u001b[0m\u001b[1;33m(\u001b[0m\u001b[0mimg_patch\u001b[0m\u001b[1;33m,\u001b[0m \u001b[0mfiltr\u001b[0m\u001b[1;33m)\u001b[0m\u001b[1;33m:\u001b[0m\u001b[1;33m\u001b[0m\u001b[0m\n\u001b[0;32m     20\u001b[0m     \u001b[0mconv\u001b[0m\u001b[1;33m=\u001b[0m\u001b[0mnp\u001b[0m\u001b[1;33m.\u001b[0m\u001b[0mmultiply\u001b[0m\u001b[1;33m(\u001b[0m\u001b[0mimg_patch\u001b[0m\u001b[1;33m,\u001b[0m\u001b[0mfiltr\u001b[0m\u001b[1;33m)\u001b[0m\u001b[1;33m\u001b[0m\u001b[0m\n\u001b[1;32m---> 21\u001b[1;33m     \u001b[1;32mreturn\u001b[0m \u001b[0mnp\u001b[0m\u001b[1;33m.\u001b[0m\u001b[0msum\u001b[0m\u001b[1;33m(\u001b[0m\u001b[0mconv\u001b[0m\u001b[1;33m)\u001b[0m\u001b[1;33m\u001b[0m\u001b[0m\n\u001b[0m",
      "\u001b[1;31mKeyboardInterrupt\u001b[0m: "
     ]
    }
   ],
   "source": [
    "for j in range(0,epochs):\n",
    "    print(\"Epoch #\",j+1)\n",
    "    loss=0\n",
    "    p=np.random.permutation(1000)\n",
    "    a=p[:700]\n",
    "    b=p[700:]\n",
    "    trX=X[a]\n",
    "    trY=Y[a]\n",
    "    valX=X[b]\n",
    "    valY=Y[b]\n",
    "    for i in range(0,len(trX)):\n",
    "        print(\"Image #\",i+1)\n",
    "        conv_res=conv_forward(trX[i],filters)    #Step 1: Perform convolution\n",
    "        conv_res=conv_res+bias     ###Step 2: Add bias\n",
    "        conv_res=relu(conv_res)###Step 3: Perform Relu activation\n",
    "        pooled_result=Maxpool(conv_res) ### step 4: perform Max pooling\n",
    "        #print(\"Index shape\",pooled_result.shape)\n",
    "        maxID=Mask(pooled_result,conv_res)\n",
    "        #print(maxID.shape)\n",
    "        size=pooled_result.shape[0]*pooled_result.shape[1]*pooled_result.shape[2]\n",
    "        flatt=pooled_result\n",
    "        flatt=flatt.reshape(size,2)\n",
    "        flatten=[]\n",
    "        for flat in flatt:\n",
    "            flatten.append(flat[0])\n",
    "        flatten=np.expand_dims(np.array(flatten),axis=-1)\n",
    "        y_pred=feedforward(net,flatten,no_of_layers)  ### Step 7: Send to FC layyers\n",
    "        loss+=crossentropyloss(y_pred,trY[i]) #step 8: Compute loss\n",
    "        W3,B3,W2,B2,W1,B1,dL=Backwardpropagate(flatten,y_pred,trY[i],net,lr)#Step 9: Backprop of FC layer(s)\n",
    "        #print(dL.shape)\n",
    "        dL=dL.reshape(pooled_result.shape[1],pooled_result.shape[2],pooled_result.shape[0]) #Step 10: Unflatten the flattend\n",
    "        dL=np.concatenate((dL,dL),axis=1)\n",
    "        dL=np.concatenate((dL,dL),axis=0)\n",
    "        dL_max_pool=np.multiply(dL,maxID)  #Step 12: Backpropagation of Max-pooling layer\n",
    "        #print(dL.shape)\n",
    "        dL=np.multiply(dL,relu_derivative(dL_max_pool)) #Step 13: Apply derivative of Activation function\n",
    "        dL1=np.flipud(dL) #flip vertically\n",
    "        dL1=np.fliplr(dL1) #flip horizontally\n",
    "        filrs=conv_forward(trX[i],dL1) #convolv with input to update filters\n",
    "        Update_params(W3,B3,W2,B2,W1,B1)\n",
    "        filters   -=lr*filrs\n",
    "        bias      -=lr*dL\n",
    "    print(\"Loss = \",loss)\n",
    "    accu_vect.append(accuracy(valX,valY))\n",
    "    loss_vect.append(loss)"
   ]
  },
  {
   "cell_type": "code",
   "execution_count": null,
   "metadata": {},
   "outputs": [],
   "source": [
    "plt.plot(loss_vect)"
   ]
  },
  {
   "cell_type": "code",
   "execution_count": null,
   "metadata": {},
   "outputs": [],
   "source": [
    "plt.plot(accu_vect)"
   ]
  },
  {
   "cell_type": "code",
   "execution_count": null,
   "metadata": {},
   "outputs": [],
   "source": [
    "plot_filters(filters)"
   ]
  },
  {
   "cell_type": "code",
   "execution_count": null,
   "metadata": {},
   "outputs": [],
   "source": [
    "x = np.random.random((3,3,2))"
   ]
  }
 ],
 "metadata": {
  "kernelspec": {
   "display_name": "Python 3",
   "language": "python",
   "name": "python3"
  },
  "language_info": {
   "codemirror_mode": {
    "name": "ipython",
    "version": 3
   },
   "file_extension": ".py",
   "mimetype": "text/x-python",
   "name": "python",
   "nbconvert_exporter": "python",
   "pygments_lexer": "ipython3",
   "version": "3.7.0"
  }
 },
 "nbformat": 4,
 "nbformat_minor": 2
}
